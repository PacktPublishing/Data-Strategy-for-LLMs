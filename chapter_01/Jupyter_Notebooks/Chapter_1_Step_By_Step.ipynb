{
 "cells": [
  {
   "cell_type": "markdown",
   "metadata": {},
   "source": [
    "# How to Run (Chapter 1 Setup)\n",
    "\n",
    "Follow these steps before running any cells:\n",
    "\n",
    "- macOS/Linux\n",
    "  1) Open Terminal\n",
    "  2) cd to this repository root (Data-Strategy-for-LLMs)\n",
    "  3) Run: `bash chapter_01/setup/chapter_01_setup.sh`\n",
    "  4) Activate: `source chapter_01/venv_chapter_01/bin/activate`\n",
    "\n",
    "- Windows (PowerShell)\n",
    "  1) Open PowerShell (Run as Administrator if first-time installs)\n",
    "  2) cd to this repository root (Data-Strategy-for-LLMs)\n",
    "  3) Run: `powershell -ExecutionPolicy Bypass -File chapter_01/setup/chapter_01_setup.ps1`\n",
    "  4) Activate: `.\\chapter_01\\venv_chapter_01\\Scripts\\Activate.ps1`\n",
    "\n",
    "- Google Colab\n",
    "  1) Just run the first code cell; it will handle basics for Colab if needed\n",
    "  2) You can mount Drive and set paths as you prefer\n",
    "  3) No virtual environment is required in Colab; dependencies install via pip cells as needed\n",
    "\n",
    "Environment selection:\n",
    "- Open Command Palette (Mac: Cmd+Shift+P) (Windows: Ctrl+Shift+P), \n",
    "- run: Developer: Reload Window (Mac: Cmd+Shift+P; or press Cmd+P, type '>Developer: Reload Window (Windows: Ctrl+P, type '>Developer: Reload Window')')\n",
    "\n",
    "![reload_window](../images/reload_window.png)\n",
    "\n",
    "- After reload, click Select Kernel (top-right)\n",
    "\n",
    "![select_kernel](../images/select_kernel.png)\n",
    "\n",
    "- Choose Jupyter Kernel\n",
    "\n",
    "![jupyter_kernel](../images/jupyter_kernel.png)\n",
    "\n",
    "- Choose `Python (Chapter 1)`\n",
    "\n",
    "![chapter_1_env](../images/chapter_1_env.png)\n",
    "\n"
   ]
  },
  {
   "cell_type": "markdown",
   "id": "bab73ef3",
   "metadata": {},
   "source": [
    "# Chapter 1: AI Assistant System and Architecture\n",
    "## Data Strategy for LLMs - Practical Implementation Guide\n",
    "\n",
    "Welcome to the hands-on companion notebook for Chapter 1 of \"Data Strategy for LLMs\"!\n",
    "\n",
    "### What You'll Learn\n",
    "In this notebook, you'll build your first AI assistant and understand the foundational architecture that powers modern AI systems. We'll cover:\n",
    "\n",
    "- **Basic LLM Integration**: Direct API calls to OpenAI\n",
    "- **In-Context Learning**: How to provide context to improve AI responses\n",
    "- **RAG Foundation**: Introduction to Retrieval-Augmented Generation\n",
    "\n",
    "### Prerequisites\n",
    "- Google account (for Colab)\n",
    "- OpenAI API key (we'll help you set this up)\n",
    "- Basic Python knowledge (helpful but not required)\n",
    "\n",
    "### How to Use This Notebook\n",
    "1. **Run cells sequentially** - Each cell builds on the previous one\n",
    "2. **Follow along with the book** - This notebook corresponds to Chapter 1\n",
    "3. **Experiment freely** - Modify the code to see how it affects results\n",
    "4. **Ask questions** - Use the AI assistant we build to help explain concepts\n",
    "\n",
    "### Book Context\n",
    "This notebook is part of the comprehensive \"Data Strategy for LLMs\" book by Rany ElHousieny. The book focuses on the data strategy that makes AI assistants truly intelligent, not just the technical implementation details.\n",
    "\n",
    "**Ready to build your first AI assistant? Let's get started!**\n",
    "\n",
    "---\n",
    "\n",
    "*Note: Make sure to run cells in order. If you encounter any issues, restart the runtime and run all cells from the beginning.*"
   ]
  },
  {
   "cell_type": "markdown",
   "id": "d54a9e63",
   "metadata": {},
   "source": [
    "#### Option 1: Google Colab (Recommended for Beginners)\n",
    "\n",
    "If you're new to Python or want to start immediately without setup hassles, Google Colab is perfect. It requires zero installation, provides a fresh environment every time, and lets you focus on learning AI concepts rather than wrestling with environment configuration.\n",
    "\n",
    "**Getting Started with Colab:**\n",
    "\n",
    "1. **Google Account**: You need a Google account to access Google Colab. If you don't have one, you can create it for free.\n",
    "2. **Accessing Google Colab**: Open a web browser and go to https://colab.research.google.com/. You'll be prompted to sign in with your Google account.\n",
    "3. **Create a New Notebook**: After signing in, click on the \"New Notebook\" button to create a new Colab notebook.\n",
    "\n",
    "You will have a screen similar to the one below:\n",
    "\n",
    "![Google Colab Interface](../Images/colab_interface.png)\n",
    "\n",
    "**Figure 1.8: Google Colab interface showing a new notebook**\n",
    "\n",
    "4. **Upload this notebook**: In the Colab notebook, select file/Upload notebook and upload this notebook.\n",
    "![Upload this notebook](../Images/colab_upload.png)\n",
    "\n",
    "\n"
   ]
  },
  {
   "cell_type": "markdown",
   "id": "a1b4a6c9",
   "metadata": {},
   "source": [
    "Here is the minimum call to LLM"
   ]
  },
  {
   "cell_type": "code",
   "execution_count": null,
   "id": "c1c3479a",
   "metadata": {},
   "outputs": [],
   "source": [
    "# This is not safe but just for easy explanation\n",
    "# Please use Chapter_1_Setup_Advanced.ipynb for more secure option\n",
    "\n",
    "API_KEY = \"YOUR KEY Here\""
   ]
  },
  {
   "cell_type": "code",
   "execution_count": 5,
   "id": "fc3d6b46",
   "metadata": {},
   "outputs": [
    {
     "name": "stdout",
     "output_type": "stream",
     "text": [
      "Sure! Here’s one for you:\n",
      "\n",
      "Why don’t scientists trust atoms?\n",
      "\n",
      "Because they make up everything!\n"
     ]
    }
   ],
   "source": [
    "import openai; \n",
    "print(openai.OpenAI(\n",
    "    api_key=API_KEY).\n",
    "    chat.completions.\n",
    "    create(\n",
    "        model=\"gpt-4.1-mini\", \n",
    "        messages=[{\n",
    "            \"role\": \"user\", \n",
    "            \"content\": \"Tell me a joke\"}]).\n",
    "        choices[0].message.content)"
   ]
  },
  {
   "cell_type": "markdown",
   "id": "94d458dd",
   "metadata": {},
   "source": []
  },
  {
   "cell_type": "code",
   "execution_count": 6,
   "id": "d4c74a06",
   "metadata": {},
   "outputs": [
    {
     "name": "stdout",
     "output_type": "stream",
     "text": [
      "Sure! Here's a joke for you:\n",
      "\n",
      "Why don’t scientists trust atoms?\n",
      "\n",
      "Because they make up everything!\n"
     ]
    }
   ],
   "source": [
    "import openai\n",
    "\n",
    "def ask_ai(content, api_key=API_KEY):\n",
    "    return openai.OpenAI(api_key=api_key).chat.completions.create(\n",
    "        model=\"gpt-4.1-mini\", \n",
    "        messages=[{\"role\": \"user\", \"content\": content}]\n",
    "    ).choices[0].message.content\n",
    "\n",
    "# Usage:\n",
    "print(ask_ai(\"Tell me a joke\"))"
   ]
  },
  {
   "cell_type": "markdown",
   "id": "e018abe3",
   "metadata": {},
   "source": [
    "## Understanding Our Core AI Function\n",
    "\n",
    "This simple function is our gateway to AI communication throughout the book. It takes your question as `content`, sends it to OpenAI's API using the specified model (`gpt-4o-mini`), and returns the AI's response as plain text.\n",
    "\n",
    "The function handles all the technical details - API authentication, message formatting, and response parsing - so you can focus on what matters: crafting effective prompts and understanding how data strategy improves AI responses.\n",
    "\n",
    "### Important Note\n",
    "\n",
    "**Scope of This Function:** The technical details of OpenAI API implementation are outside the scope of this book - there are many excellent resources that cover those fundamentals. Our focus is on the data strategy that makes AI assistants truly intelligent.Here, we used OpenAI's API as an example, but the same principles apply to any LLM provider.\n",
    "\n",
    "Each time we use this function throughout the book, we're demonstrating our core thesis: how better data creates better AI responses. The magic isn't in the function itself - it's in the data strategy we build around it.\n",
    "\n",
    "**What you need to know is simply how to call it:**\n",
    "\n",
    "```python\n",
    "response = ask_ai(\"Your prompt here\")\n",
    "print(response)"
   ]
  },
  {
   "cell_type": "code",
   "execution_count": 4,
   "id": "7f814a2c",
   "metadata": {},
   "outputs": [
    {
     "name": "stdout",
     "output_type": "stream",
     "text": [
      "Why did the scarecrow win an award? \n",
      "\n",
      "Because he was outstanding in his field!\n"
     ]
    }
   ],
   "source": [
    "print(ask_ai(\"Tell me a joke\"))"
   ]
  },
  {
   "cell_type": "markdown",
   "id": "ea50378d",
   "metadata": {},
   "source": []
  }
 ],
 "metadata": {
  "kernelspec": {
   "display_name": "base",
   "language": "python",
   "name": "python3"
  },
  "language_info": {
   "codemirror_mode": {
    "name": "ipython",
    "version": 3
   },
   "file_extension": ".py",
   "mimetype": "text/x-python",
   "name": "python",
   "nbconvert_exporter": "python",
   "pygments_lexer": "ipython3",
   "version": "3.11.3"
  }
 },
 "nbformat": 4,
 "nbformat_minor": 5
}
