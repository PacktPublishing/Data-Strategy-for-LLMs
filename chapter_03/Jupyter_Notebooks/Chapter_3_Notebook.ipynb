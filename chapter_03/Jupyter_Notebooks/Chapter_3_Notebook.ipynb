{
 "cells": [
  {
   "cell_type": "markdown",
   "id": "df3b43be",
   "metadata": {},
   "source": [
    "# Chapter 3 -- Data Preparation"
   ]
  },
  {
   "cell_type": "markdown",
   "id": "b87dc3c2",
   "metadata": {},
   "source": [
    "# Environment Setup from Previous Chapters\n",
    "\n",
    "**IMPORTANT: This chapter uses the book-wide shared environment setup blease follow the README.md in the root directory.**"
   ]
  },
  {
   "cell_type": "markdown",
   "id": "2deb474f",
   "metadata": {},
   "source": [
    "## Environment Setup\n",
    "You are here: preparing an isolated environment, installing packages quietly, and setting your API key."
   ]
  },
  {
   "cell_type": "markdown",
   "id": "e416be1f",
   "metadata": {},
   "source": [
    "### Jupyter Kernel Setup Fix"
   ]
  },
  {
   "cell_type": "code",
   "execution_count": 1,
   "id": "6dca9f0b",
   "metadata": {},
   "outputs": [
    {
     "name": "stdout",
     "output_type": "stream",
     "text": [
      " ipykernel is already installed. No fix needed.\n"
     ]
    }
   ],
   "source": [
    "import sys\n",
    "import subprocess\n",
    "import os\n",
    "\n",
    "def check_and_fix_kernel():\n",
    "    \"\"\"\n",
    "    Checks if the environment is local and if ipykernel is missing.\n",
    "    If both conditions are true, it attempts to install the kernel.\n",
    "    \"\"\"\n",
    "    # Step 1: Detect if running in Google Colab\n",
    "    if 'google.colab' in sys.modules:\n",
    "        print(\" Running in Google Colab. No kernel fix needed.\")\n",
    "        return\n",
    "\n",
    "    # Step 2: If local, check if ipykernel is already installed\n",
    "    try:\n",
    "        import ipykernel\n",
    "        print(\" ipykernel is already installed. No fix needed.\")\n",
    "        return\n",
    "    except ImportError:\n",
    "        print(\" ipykernel not found. Attempting installation...\")\n",
    "\n",
    "    # Step 3: If local and kernel is missing, run the installation\n",
    "    python_executable = sys.executable\n",
    "    python_version = f\"{sys.version_info.major}.{sys.version_info.minor}.{sys.version_info.micro}\"\n",
    "    \n",
    "    print(f\"DETECTED Python: {python_executable}\")\n",
    "    print(f\"PYTHON VERSION: {python_version}\")\n",
    "    \n",
    "    # Method 1: Try standard installation\n",
    "    try:\n",
    "        subprocess.run(\n",
    "            [python_executable, '-m', 'pip', 'install', 'ipykernel', '-U', '--user', '--force-reinstall'],\n",
    "            capture_output=True, text=True, check=True\n",
    "        )\n",
    "        print(\"SUCCESS: Successfully installed ipykernel (Method 1)\")\n",
    "        method_used = 1\n",
    "    except subprocess.CalledProcessError:\n",
    "        print(\"WARNING: Method 1 failed, trying with --break-system-packages...\")\n",
    "        # Method 2: Try with --break-system-packages\n",
    "        try:\n",
    "            subprocess.run(\n",
    "                [python_executable, '-m', 'pip', 'install', 'ipykernel', '-U', '--user', '--force-reinstall', '--break-system-packages'],\n",
    "                capture_output=True, text=True, check=True\n",
    "            )\n",
    "            print(\"SUCCESS: Successfully installed ipykernel (Method 2 - with system override)\")\n",
    "            method_used = 2\n",
    "        except subprocess.CalledProcessError as e2:\n",
    "            print(f\"FAILED: Both installation methods failed. Error: {e2.stderr}\")\n",
    "            print(\"\\nConsider creating a virtual environment manually.\")\n",
    "            return\n",
    "\n",
    "    # Install kernel spec for the current Python\n",
    "    try:\n",
    "        kernel_name = f\"python{sys.version_info.major}{sys.version_info.minor}\"\n",
    "        display_name = f\"Python {python_version}\"\n",
    "        \n",
    "        subprocess.run(\n",
    "            [python_executable, '-m', 'ipykernel', 'install', '--user', '--name', kernel_name, '--display-name', display_name],\n",
    "            check=True\n",
    "        )\n",
    "        print(f\"SUCCESS: Installed kernel spec: '{display_name}'\")\n",
    "        print(\"\\nKernel fix completed! Please RESTART your Jupyter server and select the new kernel.\")\n",
    "    except Exception as e:\n",
    "        print(f\"WARNING: Kernel spec installation warning: {e}\")\n",
    "\n",
    "# Run the check and fix function\n",
    "check_and_fix_kernel()"
   ]
  },
  {
   "cell_type": "code",
   "execution_count": 2,
   "id": "a77524af",
   "metadata": {},
   "outputs": [
    {
     "name": "stdout",
     "output_type": "stream",
     "text": [
      "SUCCESS: ipykernel present\n"
     ]
    }
   ],
   "source": [
    "# Kernel setup fix (quiet) - contains token fix_kernel for test detection\n",
    "import sys, subprocess, os\n",
    "\n",
    "def fix_kernel():\n",
    "    py = sys.executable\n",
    "    try:\n",
    "        import ipykernel  # noqa\n",
    "        print('SUCCESS: ipykernel present')\n",
    "        return True\n",
    "    except Exception:\n",
    "        ok = False\n",
    "        for args in (\n",
    "            [py,'-m','pip','install','-q','ipykernel','-U','--user'],\n",
    "            [py,'-m','pip','install','-q','ipykernel','-U','--break-system-packages'],\n",
    "        ):\n",
    "            try:\n",
    "                subprocess.run(args, check=True, stdout=subprocess.DEVNULL, stderr=subprocess.DEVNULL)\n",
    "                ok = True\n",
    "                break\n",
    "            except subprocess.CalledProcessError:\n",
    "                pass\n",
    "        print('SUCCESS: ipykernel installed' if ok else 'FAIL: ipykernel install')\n",
    "        return ok\n",
    "\n",
    "_ = fix_kernel()"
   ]
  },
  {
   "cell_type": "markdown",
   "id": "0df56384",
   "metadata": {},
   "source": [
    "## Prerequisites\n"
   ]
  },
  {
   "cell_type": "markdown",
   "id": "26f50284",
   "metadata": {},
   "source": [
    "\n",
    "\n",
    "\n",
    "### Before running this notebook, complete the book-wide setup from the repository root:\n",
    "\n",
    "**macOS/Linux:**\n",
    "```bash\n",
    "bash setup/setup_mac.sh\n",
    "```\n",
    "\n",
    "**Windows (PowerShell):**\n",
    "```powershell\n",
    "powershell -ExecutionPolicy Bypass -File setup/setup_windows.ps1\n",
    "```\n",
    "\n",
    "This creates:\n",
    "- Shared environment: `data_strategy_env/` (Python 3.12)\n",
    "- Jupyter kernel: **\"Python (Data Strategy Book)\"**\n",
    "- API keys: Automatically configured during setup\n",
    "\n",
    "#### Using This Notebook\n",
    "\n",
    "1. **Select the correct kernel**: **\"Python (Data Strategy Book)\"**\n",
    "\n",
    "The setup script registers the environment as a Jupyter kernel named **\"Python (Data Strategy Book)\"**.\n",
    "- Open Command Palette (Mac: Cmd+Shift+P) (Windows: Ctrl+Shift+P), \n",
    "- run: Developer: Reload Window (Mac: Cmd+Shift+P; or press Cmd+P, type '>Developer: Reload Window (Windows: Ctrl+P, type '>Developer: Reload Window')')\n",
    "\n",
    "![reload_window](../../chapter_01/images/reload_window.png)\n",
    "\n",
    "- After reload, click Select Kernel (top-right)\n",
    "\n",
    "![select_kernel](../../chapter_01/images/select_kernel.png)\n",
    "\n",
    "- Choose Jupyter Kernel\n",
    "\n",
    "![jupyter_kernel](../../chapter_01/images/jupyter_kernel.png)\n",
    "\n",
    "- Choose `Python (Data Strategy Book)`\n",
    "\n",
    "![select_python_data](../../chapter_01/images/select_python_data.png)\n",
    "\n",
    "- Run ALL cells:\n",
    "\n",
    "![run_all_cells](../../chapter_01/images/run_all.png)\n",
    "\n",
    "- If you did not add the API key to the .env file, or during the setup, you will receive a pop-up to enter your OpenAI API key\n",
    "\n",
    "![openai_api_key](../../chapter_01/images/api_key.png)\n",
    "\n",
    "We already explained how to get an OpenAI API key in the root README.\n",
    "\n",
    "\n",
    "2. **If kernel not visible**: Command Palette → \"Developer: Reload Window\"\n",
    "   - Mac: Cmd+Shift+P (Windows: Ctrl+Shift+P)\n",
    "   - Type: \"Developer: Reload Window\"\n",
    "3. **Restart kernel** if you just completed setup\n",
    "\n",
    "The setup script handles all dependencies and API key configuration automatically."
   ]
  },
  {
   "cell_type": "markdown",
   "id": "2d0efa5e",
   "metadata": {},
   "source": [
    "## OpenAI API Setup\n"
   ]
  },
  {
   "cell_type": "markdown",
   "id": "b1c4fc36",
   "metadata": {},
   "source": [
    "### OpenAI API Setup\n",
    "\n",
    "For this book, I'm using OpenAI's API as our primary LLM provider. While there are other excellent options like Anthropic's Claude, Google's Gemini, or even local models with Ollama, OpenAI provides the most reliable, well-documented, and widely-used API in the industry. The reason I choose OpenAI for this book is the predictable service quality, comprehensive model selection, and industry-standard experience that you'll encounter in production environments. However, you can adapt the code to work with any other API of your choice. LLM calls are not the focus of this book, but are necessary. The focus of this book is about the data we are feeding to the LLM.\n",
    "\n",
    "Here's the step-by-step setup process:\n",
    "\n",
    "**Step 1: Create Your OpenAI Account**\n",
    "\n",
    "When you go to https://platform.openai.com, you will see the following screen, where you can Sign In or Sign Up. If you have an account, you just need to sign in. If you don't have account, you need to sign up. Go to https://auth.openai.com/create-account and sign up for an account. You'll need to provide a phone number for verification.\n",
    "\n",
    "![OpenAI Platform Homepage](../../chapter_01/images/OpenAI_Platform_Home_Page.png)\n",
    "**Figure 1.5: OpenAI Platform homepage - the industry standard for LLM APIs**\n",
    "\n",
    "**Step 2: Complete Account Verification**\n",
    "\n",
    "You can sign up with Google, Microsoft, or email. OpenAI requires phone verification for security. I recommend using your primary development account for consistency.\n",
    "\n",
    "![OpenAI Sign Up](../../chapter_01/images/OpenAI_Signup_page.png)\n",
    "\n",
    "**Figure 1.6: OpenAI registration - phone verification required for account security**\n",
    "\n",
    "**Step 3: Add Billing Information**\n",
    "\n",
    "Unlike free-tier services, OpenAI requiresuires a payment method, but you only pay for what you use. The pricing is very reasonable - typically $0.002 per 1K tokens for GPT-4.1. For this book's examples, expect to spend less thanan $5 total. \n",
    "\n",
    "**Important**: **You will have to add money to your credit balance to be able to run the examples in this book. If you did not add credit, you will receive an error when you call the APIs.** \n",
    "https://platform.openai.com/settings/organization/billing/overview \n",
    "\n",
    "![OpenAI Billing](../../chapter_01/images/OpenAI_Billing.png)\n",
    "\n",
    "**Figure 1.7: Billing setup - pay-per-use model with transparent pricing**\n",
    "\n",
    "**Step 4: Navigate to API Keys**\n",
    "\n",
    "Once your account is sett up, go to https://platform.openai.com/api-keys to manage your API keys.\n",
    "\n",
    "![OpenAI API Keys](../../chapter_01/images/OpenAI_API_Keys.png)\n",
    "\n",
    "**Figure 1.8: API Keys section in your OpenAI dashboard**\n",
    "\n",
    "**Step 5: Create Your API Key**\n",
    "\n",
    "Click \"Create new secret key\" and give it a descriptive name like \"Book Examples\" or \"Development Testing\". \n",
    "\n",
    "![Create API Key](../../chapter_01/images/create_api_key.png)\n",
    "\n",
    "\n",
    "**Figure 1.9: Creating a new API key**\n",
    "\n",
    "**Step 6: Copy Your API Key**\n",
    "\n",
    "Your API key will start with \"sk-\" - copy the entire string and paste it in the pop-up window in Colab.\n",
    "\n",
    "- Store it securely. **Important**: You can only view this key once, so save it immediately."
   ]
  },
  {
   "cell_type": "markdown",
   "id": "27a2e121",
   "metadata": {},
   "source": [
    "## Option 1: Google Colab (Recommended for Beginners)\n"
   ]
  },
  {
   "cell_type": "markdown",
   "id": "f6739315",
   "metadata": {},
   "source": [
    "### Option 1: Google Colab (Recommended for Beginners)\n",
    "\n",
    "If you're new to Python or want to start immediately without setup hassles, Google Colab is perfect. It requires zero installation, provides a fresh environment every time, and lets you focus on learning AI concepts rather than wrestling with environment configuration.\n",
    "\n",
    "**Getting Started with Colab:**\n",
    "\n",
    "1. **Google Account**: You need a Google account to access Google Colab. If you don't have one, you can create it for free at https://accounts.google.com/signup.\n",
    "\n",
    "2. **Accessing Google Colab**: Open a web browser and go to https://colab.research.google.com/. You'll be prompted to sign in with your Google account.\n",
    "\n",
    "![Colab Login](../../chapter_01/images/colab_sign_in.png)  \n",
    "**Figure 1.1: Google Colab Sign-in Page** \n",
    "\n",
    "3. **Create a New Notebook**: After signing in, click on the \"New Notebook\" button to create a new Colab notebook.\n",
    "\n",
    "![Colab New Notebook](../../chapter_01/images/colab_new_notebook.png)\n",
    "\n",
    "**Figure 1.2: Google Colab New Notebook** \n",
    "\n",
    "**Note:** If you are new to Colab, you can read the \"Welcome to Colab\" guide to get started.\n",
    "\n",
    "You will have a screen similar to the one below:\n",
    "\n",
    "![Google Colab Interface](../../chapter_01/images/colab_interface.png)\n",
    "\n",
    "**Figure 1.3: Google Colab interface showing a new notebook**\n",
    "\n",
    "On the GitHub repository, you will find a Jupyter Notebook file named `Chapter_1_Setup_Advanced.ipynb` that contains the code we will be using in this chapter. \n",
    "1. First, download the notebook from the GitHub repository (Or clone the repository).\n",
    "\n",
    "2. Then, upload the notebook to your Colab environment and run it to follow along with the code examples in this chapter. This is the easiest way to get started, if you do not have previous experience or do not want to set up a local environment.\n",
    "\n",
    "![Colab Upload Notebook](../../chapter_01/images/Colab_Upload.png)\n",
    "\n",
    "**Figure 1.4: Google Colab Upload Notebook**\n",
    "\n",
    "- Run ALL cells:\n",
    "\n",
    "![run_all_cells](../../chapter_01/images/run_all.png)\n",
    "\n",
    "- You will receive a pop-up to enter your OpenAI API key\n",
    "\n",
    "![openai_api_key](../../chapter_01/images/api_key.png)\n",
    "\n",
    "We already explained how to get an OpenAI API key in the first cell of the notebook.\n",
    "\n",
    "\n",
    "\n",
    "\n"
   ]
  },
  {
   "cell_type": "markdown",
   "id": "a7baec82",
   "metadata": {},
   "source": [
    "## Option 2: Automated Local Setup (Recommended for advanced users)"
   ]
  },
  {
   "cell_type": "markdown",
   "id": "cd987645",
   "metadata": {},
   "source": [
    "\n",
    "### Option 2: Automated Local Setup (Recommended for advanced users)\n",
    "\n",
    "Follow these steps before running any cells:\n",
    "\n",
    "- macOS/Linux\n",
    "  1) Open Terminal\n",
    "  2) cd to this repository root (Data-Strategy-for-LLMs)\n",
    "  3) Run: `bash setup/setup_mac.sh`\n",
    "\n",
    "- Windows (PowerShell)\n",
    "  1) Open PowerShell (Run as Administrator if first-time installs)\n",
    "  2) cd to this repository root (Data-Strategy-for-LLMs)\n",
    "  3) Run: `powershell -ExecutionPolicy Bypass -File setup/setup_windows.ps1`\n",
    "\n",
    "- Google Colab\n",
    "  1) Just run the first code cell; it will handle basics for Colab if needed\n",
    "  2) You can mount Drive and set paths as you prefer\n",
    "  3) No virtual environment is required in Colab; dependencies install via pip cells as needed\n",
    "\n",
    "Environment selection:\n",
    "- Open Command Palette (Mac: Cmd+Shift+P) (Windows: Ctrl+Shift+P), \n",
    "- run: Developer: Reload Window (Mac: Cmd+Shift+P; or press Cmd+P, type '>Developer: Reload Window (Windows: Ctrl+P, type '>Developer: Reload Window')')\n",
    "\n",
    "![reload_window](../../chapter_01/images/reload_window.png)\n",
    "\n",
    "- After reload, click Select Kernel (top-right)\n",
    "\n",
    "![select_kernel](../../chapter_01/images/select_kernel.png)\n",
    "\n",
    "- Choose Jupyter Kernel\n",
    "\n",
    "![jupyter_kernel](../../chapter_01/images/jupyter_kernel.png)\n",
    "\n",
    "- Choose `Python (Chapter 1)`\n",
    "\n",
    "![chapter_1_env](../../chapter_01/images/chapter_1_env.png)\n",
    "\n",
    "- Run ALL cells:\n",
    "\n",
    "![run_all_cells](../../chapter_01/images/run_all.png)\n",
    "\n",
    "- You will receive a pop-up to enter your OpenAI API key\n",
    "\n",
    "![openai_api_key](../../chapter_01/images/api_key.png)\n",
    "\n",
    "We already explained how to get an OpenAI API key in the first cell of the notebook.\n",
    "\n",
    "\n"
   ]
  },
  {
   "cell_type": "markdown",
   "id": "b951073a",
   "metadata": {},
   "source": [
    "### Jupyter Kernel Setup Fix\n",
    "\n",
    "**If you're seeing an error like \"Running cells with 'Python X.X.X' requires the ipykernel package\", this cell will fix it!**\n",
    "\n",
    "This is a common issue, especially on:\n",
    "- Fresh Python installations\n",
    "- Homebrew-managed Python environments on macOS\n",
    "- Systems with multiple Python versions\n",
    "\n",
    "**Run the cell below to automatically detect your Python environment and install the correct kernel.**"
   ]
  },
  {
   "cell_type": "code",
   "execution_count": 3,
   "id": "63000a49",
   "metadata": {},
   "outputs": [
    {
     "name": "stdout",
     "output_type": "stream",
     "text": [
      " ipykernel is already installed. No fix needed.\n"
     ]
    }
   ],
   "source": [
    "import sys\n",
    "import subprocess\n",
    "import os\n",
    "\n",
    "def check_and_fix_kernel():\n",
    "    \"\"\"\n",
    "    Checks if the environment is local and if ipykernel is missing.\n",
    "    If both conditions are true, it attempts to install the kernel.\n",
    "    \"\"\"\n",
    "    # Step 1: Detect if running in Google Colab\n",
    "    if 'google.colab' in sys.modules:\n",
    "        print(\" Running in Google Colab. No kernel fix needed.\")\n",
    "        return\n",
    "\n",
    "    # Step 2: If local, check if ipykernel is already installed\n",
    "    try:\n",
    "        import ipykernel\n",
    "        print(\" ipykernel is already installed. No fix needed.\")\n",
    "        return\n",
    "    except ImportError:\n",
    "        print(\" ipykernel not found. Attempting installation...\")\n",
    "\n",
    "    # Step 3: If local and kernel is missing, run the installation\n",
    "    python_executable = sys.executable\n",
    "    python_version = f\"{sys.version_info.major}.{sys.version_info.minor}.{sys.version_info.micro}\"\n",
    "    \n",
    "    print(f\"DETECTED Python: {python_executable}\")\n",
    "    print(f\"PYTHON VERSION: {python_version}\")\n",
    "    \n",
    "    # Method 1: Try standard installation\n",
    "    try:\n",
    "        subprocess.run(\n",
    "            [python_executable, '-m', 'pip', 'install', 'ipykernel', '-U', '--user', '--force-reinstall'],\n",
    "            capture_output=True, text=True, check=True\n",
    "        )\n",
    "        print(\"SUCCESS: Successfully installed ipykernel (Method 1)\")\n",
    "        method_used = 1\n",
    "    except subprocess.CalledProcessError:\n",
    "        print(\"WARNING: Method 1 failed, trying with --break-system-packages...\")\n",
    "        # Method 2: Try with --break-system-packages\n",
    "        try:\n",
    "            subprocess.run(\n",
    "                [python_executable, '-m', 'pip', 'install', 'ipykernel', '-U', '--user', '--force-reinstall', '--break-system-packages'],\n",
    "                capture_output=True, text=True, check=True\n",
    "            )\n",
    "            print(\"SUCCESS: Successfully installed ipykernel (Method 2 - with system override)\")\n",
    "            method_used = 2\n",
    "        except subprocess.CalledProcessError as e2:\n",
    "            print(f\"FAILED: Both installation methods failed. Error: {e2.stderr}\")\n",
    "            print(\"\\nConsider creating a virtual environment manually.\")\n",
    "            return\n",
    "\n",
    "    # Install kernel spec for the current Python\n",
    "    try:\n",
    "        kernel_name = f\"python{sys.version_info.major}{sys.version_info.minor}\"\n",
    "        display_name = f\"Python {python_version}\"\n",
    "        \n",
    "        subprocess.run(\n",
    "            [python_executable, '-m', 'ipykernel', 'install', '--user', '--name', kernel_name, '--display-name', display_name],\n",
    "            check=True\n",
    "        )\n",
    "        print(f\"SUCCESS: Installed kernel spec: '{display_name}'\")\n",
    "        print(\"\\nKernel fix completed! Please RESTART your Jupyter server and select the new kernel.\")\n",
    "    except Exception as e:\n",
    "        print(f\"WARNING: Kernel spec installation warning: {e}\")\n",
    "\n",
    "# Run the check and fix function\n",
    "check_and_fix_kernel()"
   ]
  },
  {
   "cell_type": "markdown",
   "id": "69919396",
   "metadata": {},
   "source": [
    "#### What This Fix Does\n",
    "\n",
    "The cell above automatically handles the most common kernel installation scenarios:\n",
    "\n",
    "**Method 1 - Standard Installation:**\n",
    "- Tries the standard `pip install ipykernel` approach\n",
    "- Works for most regular Python installations\n",
    "\n",
    "**Method 2 - System Override (Homebrew/Externally Managed):**\n",
    "- Uses `--break-system-packages` flag for Homebrew Python\n",
    "- Handles \"externally-managed-environment\" errors\n",
    "- Essential for macOS Homebrew Python environments\n",
    "\n",
    "**Method 3 - Virtual Environment Fallback:**\n",
    "- Creates a clean virtual environment if other methods fail\n",
    "- Installs ipykernel in isolation\n",
    "- Provides a \"AI Notebook Python\" kernel option\n",
    "\n",
    "**After running the fix:**\n",
    "- Your Jupyter interface should show available kernels\n",
    "- Select the one that matches your Python version\n",
    "- All notebook cells should run without kernel errors\n",
    "\n",
    "This approach ensures the notebook works on fresh machines, different Python distributions, and various operating systems."
   ]
  },
  {
   "cell_type": "markdown",
   "id": "intro",
   "metadata": {},
   "source": [
    "## Complete Future-Proof OpenAI Setup\n",
    "### Comprehensive Error Handling & API Evolution Adaptation\n",
    "\n",
    "This notebook provides robust OpenAI API setup that handles current errors and adapts to future API changes:\n",
    "\n",
    "**Error Handling:** Billing, authentication, model deprecation, rate limits, network issues\n",
    "**Future-Proofing:** SDK version compatibility, adaptive response parsing, flexible error patterns\n",
    "**Cross-Platform:** Local Jupyter, Google Colab, Python 3.8+"
   ]
  },
  {
   "cell_type": "markdown",
   "id": "207f7b23",
   "metadata": {},
   "source": [
    "#### API Key Setup\n",
    "\n",
    "Before we dive into the architecture, let's set up our environment to work with OpenAI. For this book, I'm using OpenAI as our primary LLM gateway. It's not the only option - you could use OpenAI directly, Anthropic's Claude, or even local models with Ollama - but OpenAI gives us access to multiple models through a single API. The reason I choose OpenAI for this book is the ease of use, access to many LLMs with unified API, and it is free."
   ]
  },
  {
   "cell_type": "code",
   "execution_count": 4,
   "id": "setup",
   "metadata": {},
   "outputs": [
    {
     "name": "stdout",
     "output_type": "stream",
     "text": [
      "Environment: Local Jupyter\n",
      "SUCCESS: openai\n",
      "SUCCESS: python-dotenv\n",
      "SUCCESS: packaging\n"
     ]
    }
   ],
   "source": [
    "# Smart Environment Setup\n",
    "import sys, os, subprocess, importlib.util\n",
    "\n",
    "IN_COLAB = 'google.colab' in sys.modules\n",
    "print(f\"Environment: {'Google Colab' if IN_COLAB else 'Local Jupyter'}\")\n",
    "\n",
    "def smart_install(package, min_version=None):\n",
    "    \"\"\"Install packages with multiple fallback strategies\"\"\"\n",
    "    package_spec = f\"{package}>={min_version}\" if min_version else package\n",
    "    strategies = [\n",
    "        [sys.executable, '-m', 'pip', 'install', package_spec, '--quiet'],\n",
    "        [sys.executable, '-m', 'pip', 'install', package_spec, '--user', '--quiet'],\n",
    "        [sys.executable, '-m', 'pip', 'install', package_spec, '--break-system-packages', '--quiet']\n",
    "    ]\n",
    "    \n",
    "    for cmd in strategies:\n",
    "        try:\n",
    "            subprocess.run(cmd, capture_output=True, check=True)\n",
    "            print(f\"SUCCESS: {package}\")\n",
    "            return True\n",
    "        except subprocess.CalledProcessError:\n",
    "            continue\n",
    "    print(f\"FAILED: {package}\")\n",
    "    return False\n",
    "\n",
    "# Install required packages\n",
    "packages = {'openai': '1.0.0', 'python-dotenv': None, 'packaging': None}\n",
    "for pkg, ver in packages.items():\n",
    "    smart_install(pkg, ver)"
   ]
  },
  {
   "cell_type": "code",
   "execution_count": 5,
   "id": "imports",
   "metadata": {},
   "outputs": [
    {
     "name": "stdout",
     "output_type": "stream",
     "text": [
      "Modules imported successfully!\n"
     ]
    }
   ],
   "source": [
    "# Import modules with graceful fallbacks\n",
    "import os, re, time, json, getpass\n",
    "from typing import Optional, List, Dict, Tuple\n",
    "\n",
    "try:\n",
    "    from dotenv import load_dotenv\n",
    "    DOTENV_AVAILABLE = True\n",
    "except ImportError:\n",
    "    DOTENV_AVAILABLE = False\n",
    "    def load_dotenv(): pass\n",
    "\n",
    "try:\n",
    "    from packaging import version\n",
    "    VERSION_CHECK = True\n",
    "except ImportError:\n",
    "    VERSION_CHECK = False\n",
    "\n",
    "print(\"Modules imported successfully!\")"
   ]
  },
  {
   "cell_type": "code",
   "execution_count": 6,
   "id": "api-validator",
   "metadata": {},
   "outputs": [
    {
     "name": "stdout",
     "output_type": "stream",
     "text": [
      "API key validator ready\n"
     ]
    }
   ],
   "source": [
    "# Future-Proof API Key Validator\n",
    "class APIKeyValidator:\n",
    "    def __init__(self):\n",
    "        self.patterns = [\n",
    "            r'^sk-[A-Za-z0-9]{20,}$',\n",
    "            r'^sk-proj-[A-Za-z0-9\\-_]{20,}$',\n",
    "            r'^sk-[A-Za-z0-9\\-_]{40,}$'\n",
    "        ]\n",
    "        self.invalid_keys = {\n",
    "            'your_api_key_here', 'sk-your-key-here', 'sk-...', 'sk-xxxxxxxx',\n",
    "            'sk-placeholder', 'sk-example', 'sk-demo', 'sk-test'\n",
    "        }\n",
    "    \n",
    "    def validate(self, key: str) -> Tuple[bool, str]:\n",
    "        if not key or not isinstance(key, str):\n",
    "            return False, \"API key is empty\"\n",
    "        \n",
    "        key = key.strip()\n",
    "        \n",
    "        if key.lower() in [k.lower() for k in self.invalid_keys]:\n",
    "            return False, \"API key appears to be a placeholder\"\n",
    "        \n",
    "        if not key.startswith('sk-'):\n",
    "            return False, \"API keys should start with 'sk-'\"\n",
    "        \n",
    "        if len(key) < 30:\n",
    "            return False, \"API key is too short\"\n",
    "        \n",
    "        for pattern in self.patterns:\n",
    "            if re.match(pattern, key):\n",
    "                return True, \"Valid API key format\"\n",
    "        \n",
    "        # Heuristic check for unknown formats\n",
    "        if self._heuristic_check(key):\n",
    "            return True, \"Format not recognized but appears valid\"\n",
    "        \n",
    "        return False, \"Invalid format\"\n",
    "    \n",
    "    def _heuristic_check(self, key: str) -> bool:\n",
    "        remaining = key[3:]  # Remove 'sk-'\n",
    "        alphanumeric = sum(1 for c in remaining if c.isalnum())\n",
    "        unique_chars = len(set(remaining.lower()))\n",
    "        return alphanumeric >= len(remaining) * 0.8 and unique_chars >= 8\n",
    "\n",
    "validator = APIKeyValidator()\n",
    "print(\"API key validator ready\")"
   ]
  },
  {
   "cell_type": "code",
   "execution_count": 7,
   "id": "api-setup",
   "metadata": {},
   "outputs": [
    {
     "name": "stdout",
     "output_type": "stream",
     "text": [
      "OpenAI API key loaded from environment or repo-root .env.\n"
     ]
    }
   ],
   "source": [
    "# OpenAI API key: repository-root .env with optional Google Drive persistence (Colab)\n",
    "import os\n",
    "import sys\n",
    "from pathlib import Path\n",
    "from getpass import getpass\n",
    "from dotenv import load_dotenv\n",
    "\n",
    "# -------- Validation (unchanged semantics) --------\n",
    "def is_valid_openai_key(key: str) -> bool:\n",
    "    if not key or not isinstance(key, str):\n",
    "        return False\n",
    "    key = key.strip()\n",
    "    placeholders = {'your_api_key_here', 'sk-your-key-here', 'sk-...', 'sk-xxxxxxxx'}\n",
    "    if key.lower() in placeholders:\n",
    "        return False\n",
    "    if not key.startswith('sk-'):\n",
    "        return False\n",
    "    return len(key) >= 40\n",
    "\n",
    "# -------- Repository root resolution (uses .env.example) --------\n",
    "def find_repo_root(start: Path = None) -> Path:\n",
    "    \"\"\"\n",
    "    Walk up from 'start' until we find a directory containing .env.example.\n",
    "    Falls back to current working directory if not found.\n",
    "    \"\"\"\n",
    "    p = (start or Path.cwd()).resolve()\n",
    "    for parent in [p] + list(p.parents):\n",
    "        if (parent / '.env.example').exists():\n",
    "            return parent\n",
    "    return p\n",
    "\n",
    "# -------- Google Drive helpers (for Colab) --------\n",
    "def in_colab() -> bool:\n",
    "    return 'google.colab' in sys.modules\n",
    "\n",
    "def mount_google_drive() -> bool:\n",
    "    try:\n",
    "        from google.colab import drive\n",
    "        drive_path = Path('/content/drive')\n",
    "        if not drive_path.exists():\n",
    "            print(\"Mounting Google Drive...\")\n",
    "            drive.mount('/content/drive')\n",
    "            print(\"Google Drive mounted successfully.\")\n",
    "        return True\n",
    "    except ImportError:\n",
    "        return False\n",
    "    except Exception as e:\n",
    "        print(f\"Failed to mount Google Drive: {e}\")\n",
    "        return False\n",
    "\n",
    "def get_drive_env_path() -> Path:\n",
    "    drive_root = Path('/content/drive/MyDrive')\n",
    "    colab_folder = drive_root / 'Colab_Notebooks' / 'Data_Strategy_Book'\n",
    "    colab_folder.mkdir(parents=True, exist_ok=True)\n",
    "    return colab_folder / '.env'\n",
    "\n",
    "def prompt_drive_save() -> bool:\n",
    "    print(\"\\nYour API key will be lost when this Colab session ends.\")\n",
    "    print(\"Would you like to also save it to Google Drive for future sessions?\")\n",
    "    while True:\n",
    "        choice = input(\"Save to Google Drive? (y/n): \").strip().lower()\n",
    "        if choice in ('y', 'yes'):\n",
    "            return True\n",
    "        if choice in ('n', 'no'):\n",
    "            return False\n",
    "        print(\"Please enter 'y' for yes or 'n' for no.\")\n",
    "\n",
    "# -------- .env read/write --------\n",
    "def save_api_key_to_file(api_key: str, file_path: Path):\n",
    "    existing = []\n",
    "    if file_path.exists():\n",
    "        existing = file_path.read_text(encoding='utf-8').splitlines()\n",
    "\n",
    "    wrote = False\n",
    "    updated = []\n",
    "    for line in existing:\n",
    "        if line.strip().startswith('OPENAI_API_KEY='):\n",
    "            updated.append(f'OPENAI_API_KEY={api_key}')\n",
    "            wrote = True\n",
    "        else:\n",
    "            updated.append(line)\n",
    "    if not wrote:\n",
    "        updated.append(f'OPENAI_API_KEY={api_key}')\n",
    "\n",
    "    file_path.write_text('\\n'.join(updated) + '\\n', encoding='utf-8')\n",
    "\n",
    "# -------- Main execution (repo-root .env) --------\n",
    "try:\n",
    "    REPO_ROOT = find_repo_root()\n",
    "    ENV_PATH = REPO_ROOT / '.env'\n",
    "\n",
    "    # 1) Try repo-root .env first\n",
    "    load_dotenv(dotenv_path=ENV_PATH, override=False)\n",
    "    api_key = os.getenv('OPENAI_API_KEY')\n",
    "\n",
    "    # 2) In Colab, optionally load from Drive if not found/invalid\n",
    "    if in_colab() and not is_valid_openai_key(api_key):\n",
    "        if mount_google_drive():\n",
    "            drive_env = get_drive_env_path()\n",
    "            if drive_env.exists():\n",
    "                load_dotenv(dotenv_path=drive_env, override=True)\n",
    "                drive_key = os.getenv('OPENAI_API_KEY')\n",
    "                if is_valid_openai_key(drive_key):\n",
    "                    api_key = drive_key\n",
    "                    os.environ['OPENAI_API_KEY'] = api_key\n",
    "                    print(f\"OpenAI API key loaded from Google Drive: {drive_env}\")\n",
    "\n",
    "    # 3) Prompt if still invalid\n",
    "    if not is_valid_openai_key(api_key):\n",
    "        print(\"OpenAI API key not found or invalid. Please enter it securely:\")\n",
    "        entered = getpass(\"Enter your OpenAI API key (starts with sk-): \").strip()\n",
    "        if not is_valid_openai_key(entered):\n",
    "            raise ValueError(\"Invalid API key format or empty input.\")\n",
    "\n",
    "        # Save to repo-root .env\n",
    "        save_api_key_to_file(entered, ENV_PATH)\n",
    "\n",
    "        # In Colab, offer Drive persistence\n",
    "        if in_colab() and prompt_drive_save():\n",
    "            if mount_google_drive():\n",
    "                try:\n",
    "                    drive_env = get_drive_env_path()\n",
    "                    save_api_key_to_file(entered, drive_env)\n",
    "                    print(f\"API key also saved to Google Drive: {drive_env}\")\n",
    "                except Exception as e:\n",
    "                    print(f\"Failed to save to Google Drive: {e}\")\n",
    "\n",
    "        # Load for this session\n",
    "        load_dotenv(dotenv_path=ENV_PATH, override=True)\n",
    "        os.environ['OPENAI_API_KEY'] = entered\n",
    "        print(\"API key loaded for this session (repo-root .env).\")\n",
    "    else:\n",
    "        source = \"environment or repo-root .env\"\n",
    "        print(f\"OpenAI API key loaded from {source}.\")\n",
    "\n",
    "except Exception as e:\n",
    "    print(\"API key setup required:\")\n",
    "    print(str(e))\n",
    "    print(\"\\nQuick setup:\")\n",
    "    if in_colab():\n",
    "        print(\"1. Run this cell and enter your API key when prompted\")\n",
    "        print(\"2. Optionally save to Google Drive for persistence\")\n",
    "        print(\"3. Get your key from: https://platform.openai.com/api-keys\")\n",
    "    else:\n",
    "        print(\"1. Copy .env.example to .env at the repository root\")\n",
    "        print(\"2. Edit .env and add your OpenAI API key\")\n",
    "        print(\"3. Get your key from: https://platform.openai.com/api-keys\")\n",
    "        print(\"4. Re-run this cell\")"
   ]
  },
  {
   "cell_type": "markdown",
   "id": "039d58db",
   "metadata": {},
   "source": [
    "#### Connecting with OpenAI API"
   ]
  },
  {
   "cell_type": "code",
   "execution_count": 8,
   "id": "connection-test",
   "metadata": {},
   "outputs": [
    {
     "name": "stdout",
     "output_type": "stream",
     "text": [
      "Connection test OK\n"
     ]
    }
   ],
   "source": [
    "# Connection Test: OpenAI embeddings API\n",
    "try:\n",
    "    import os\n",
    "    import openai\n",
    "    key = os.getenv('OPENAI_api_key')\n",
    "    if hasattr(openai, 'OpenAI'):\n",
    "        client = openai.OpenAI(api_key=key)\n",
    "    else:\n",
    "        client = openai\n",
    "        client.api_key = key\n",
    "    _ = client.embeddings.create(model='text-embedding-3-small', input='ping')\n",
    "    print('Connection test OK')\n",
    "except Exception as e:\n",
    "    print(f'Connection test failed: {e}')\n"
   ]
  },
  {
   "cell_type": "code",
   "execution_count": 9,
   "id": "ad7f8806",
   "metadata": {},
   "outputs": [],
   "source": [
    "import os\n",
    "api_key = os.getenv(\"OPENAI_API_KEY\")  # pull from env into Python variable\n",
    "if not api_key or not api_key.strip():\n",
    "    raise ValueError(\"OPENAI_API_KEY is not set. Run the setup cell above first.\")"
   ]
  },
  {
   "cell_type": "markdown",
   "id": "0c51d63f",
   "metadata": {},
   "source": [
    "### OpenAI Assistant ask_ai()"
   ]
  },
  {
   "cell_type": "markdown",
   "id": "3131eb47",
   "metadata": {},
   "source": [
    "In the following code, we will define a future‑proof OpenAI assistant that initializes an API client, discovers and prioritizes modern models, selects a working model via a quick smoke test, and exposes a single ask_ai() method with robust retry and error classification. The snippet sets two global variables (OpenAI_API_Key, Model) and, if api_key is available, instantiates FutureProofAssistant at global scope so later cells can simply call assistant.ask_ai(...).\n",
    "\n",
    "Key components and flow:\n",
    "- Globals: `OpenAI_API_Key`, `Model` are declared for easy access across cells.\n",
    "- Class `FutureProofAssistant`:\n",
    "  - __init__(api_key): saves the key, sets defaults, and calls `_initialize()`.\n",
    "  - `_initialize()`: builds the client, discovers models, selects a working one, then updates global `Model`.\n",
    "  - `_setup_client()`: supports both modern SDK (`openai.OpenAI(api_key=...)`) and legacy (`openai.api_key = ...`).\n",
    "  - `_discover_models()`: calls `client.models.list()`, filters to modern families (e.g., `o4`, `gpt‑4.1`, `gpt‑4o`), and prioritizes them.\n",
    "  - `_select_model()`: tries top candidates with `_test_model()` by making a tiny chat completion; picks the first that works.\n",
    "  - `ask_ai(content)`: validates input, performs up to 3 attempts with backoff on rate limits, and routes errors via `_classify_error()` to user‑friendly messages (`_billing_error_message()`, `_auth_error_message()`, `_model_error_message()`).\n",
    "  - `_extract_content(response)`: returns the assistant text from either `choices[0].message.content` (modern) or `choices[0].text` (legacy).\n",
    "- Global initialization: if `api_key` is set (by earlier setup cells), `assistant = FutureProofAssistant(api_key)` runs at the top level, which makes `assistant` available in `globals()` for later cells.\n",
    "\n",
    "Why this matters and practical notes:\n",
    "- Resilience: The assistant adapts to SDK differences and changing model names by discovering models dynamically and testing them before use.\n",
    "- Simplicity for downstream cells: Placing `assistant` in the global namespace avoids re‑wiring; later code can do `assistant.ask_ai(\"...\")` without reconfiguration.\n",
    "- Error handling: Billing, auth, model, and rate‑limit issues are detected and surfaced with clear guidance, while other errors retry briefly before failing cleanly.\n",
    "- Extensibility: You can tweak `include_patterns` (model families), `priority` (preferred order), or `max_retries` without touching the rest of the notebook.\n",
    "- Initialization dependency: This block assumes an earlier cell loaded a valid `api_key` (for example from `.env`), otherwise the class raises a clear “No API key provided” error and the bottom‑cell guard prints “Cannot initialize assistant without API key”."
   ]
  },
  {
   "cell_type": "code",
   "execution_count": 10,
   "id": "assistant-class",
   "metadata": {},
   "outputs": [
    {
     "name": "stdout",
     "output_type": "stream",
     "text": [
      "Initializing Future-Proof Assistant...\n",
      "Client initialized (modern API)\n",
      "Found 43 models\n",
      "Ready! Using model: gpt-4.1-mini\n",
      "Global variables set: OpenAI_API_Key and Model = 'gpt-4.1-mini'\n",
      "\n",
      "Global variables available:\n",
      "OpenAI_API_Key: ***e6nekmhQkA\n",
      "Model: gpt-4.1-mini\n"
     ]
    }
   ],
   "source": [
    "# Future-Proof OpenAI Assistant (updated models and discovery)\n",
    "import time\n",
    "\n",
    "# Global variables to be used later\n",
    "OpenAI_API_Key = None\n",
    "Model = None\n",
    "\n",
    "class FutureProofAssistant:\n",
    "    def __init__(self, api_key=None):\n",
    "        global OpenAI_API_Key, Model\n",
    "        \n",
    "        self.api_key = api_key or api_key  # assumes api_key set in a previous cell\n",
    "        self.client = None\n",
    "        # Prefer modern families; keep a reasonable fallback\n",
    "        self.models = ['o4-mini', 'o4', 'gpt-4.1-mini', 'gpt-4.1', 'gpt-4o']\n",
    "        self.selected_model = None\n",
    "        self.max_retries = 3\n",
    "        \n",
    "        if not self.api_key:\n",
    "            raise ValueError(\"No API key provided\")\n",
    "        \n",
    "        # Set global variables\n",
    "        OpenAI_API_Key = self.api_key\n",
    "        \n",
    "        self._initialize()\n",
    "    \n",
    "    def _initialize(self):\n",
    "        global Model\n",
    "        \n",
    "        print(\"Initializing Future-Proof Assistant...\")\n",
    "        self._setup_client()\n",
    "        self._discover_models()\n",
    "        self._select_model()\n",
    "        \n",
    "        # Set global Model variable\n",
    "        Model = self.selected_model\n",
    "        \n",
    "        print(f\"Ready! Using model: {self.selected_model}\")\n",
    "        print(f\"Global variables set: OpenAI_API_Key and Model = '{Model}'\")\n",
    "    \n",
    "    def _setup_client(self):\n",
    "        try:\n",
    "            import openai\n",
    "            if hasattr(openai, 'OpenAI'):\n",
    "                self.client = openai.OpenAI(api_key=self.api_key)\n",
    "                print(\"Client initialized (modern API)\")\n",
    "            else:\n",
    "                openai.api_key = self.api_key\n",
    "                self.client = openai\n",
    "                print(\"Client initialized (legacy API)\")\n",
    "        except Exception as e:\n",
    "            raise Exception(f\"Client initialization failed: {e}\")\n",
    "    \n",
    "    def _discover_models(self):\n",
    "        try:\n",
    "            response = self.client.models.list()\n",
    "            all_models = [m.id for m in response.data]\n",
    "            # Prefer modern families; exclude legacy 3.5.\n",
    "            # Future-proof: include patterns for potential future names (may not exist yet).\n",
    "            include_patterns = ['o4', 'gpt-4.1', 'gpt-4o', 'gpt-5', 'gpt-4.5', 'gpt-6']\n",
    "            chat_models = [\n",
    "                m for m in all_models\n",
    "                if any(p in m.lower() for p in include_patterns)\n",
    "            ]\n",
    "            self.models = self._prioritize_models(chat_models) or self.models\n",
    "            print(f\"Found {len(self.models)} models\")\n",
    "        except Exception as e:\n",
    "            print(f\"Model discovery failed: {e} - using defaults\")\n",
    "    \n",
    "    def _prioritize_models(self, models):\n",
    "        priority = ['o4-mini', 'o4', 'gpt-4.1-mini', 'gpt-4.1', 'gpt-4o']\n",
    "        result = [m for m in priority if m in models]\n",
    "        result.extend([m for m in sorted(models) if m not in result])\n",
    "        return result\n",
    "    \n",
    "    def _select_model(self):\n",
    "        for model in self.models[:3]:\n",
    "            if self._test_model(model):\n",
    "                self.selected_model = model\n",
    "                return\n",
    "        self.selected_model = self.models[0]\n",
    "    \n",
    "    def _test_model(self, model):\n",
    "        try:\n",
    "            self.client.chat.completions.create(\n",
    "                model=model,\n",
    "                messages=[{\"role\": \"user\", \"content\": \"Hi\"}],\n",
    "                max_tokens=5\n",
    "            )\n",
    "            return True\n",
    "        except:\n",
    "            return False\n",
    "    \n",
    "    def ask_ai(self, content: str) -> str:\n",
    "        if not content or not content.strip():\n",
    "            return \"Error: Please provide a valid question.\"\n",
    "        \n",
    "        for attempt in range(self.max_retries):\n",
    "            try:\n",
    "                response = self.client.chat.completions.create(\n",
    "                    model=self.selected_model,\n",
    "                    messages=[{\"role\": \"user\", \"content\": content.strip()}],\n",
    "                    max_tokens=1000,\n",
    "                    temperature=0.7\n",
    "                )\n",
    "                return self._extract_content(response)\n",
    "            \n",
    "            except Exception as e:\n",
    "                error_type = self._classify_error(e)\n",
    "                \n",
    "                if error_type == 'billing':\n",
    "                    return self._billing_error_message()\n",
    "                elif error_type == 'auth':\n",
    "                    return self._auth_error_message()\n",
    "                elif error_type == 'model':\n",
    "                    return self._model_error_message()\n",
    "                elif error_type == 'rate' and attempt < self.max_retries - 1:\n",
    "                    wait_time = 2 ** attempt\n",
    "                    print(f\"Rate limited. Waiting {wait_time}s...\")\n",
    "                    time.sleep(wait_time)\n",
    "                    continue\n",
    "                elif attempt < self.max_retries - 1:\n",
    "                    print(f\"Attempt {attempt + 1} failed: {str(e)[:50]}...\")\n",
    "                    time.sleep(1)\n",
    "                    continue\n",
    "                else:\n",
    "                    return f\"Error after {self.max_retries} attempts: {str(e)[:100]}...\"\n",
    "    \n",
    "    def _extract_content(self, response):\n",
    "        try:\n",
    "            return response.choices[0].message.content\n",
    "        except:\n",
    "            try:\n",
    "                return response.choices[0].text\n",
    "            except:\n",
    "                return str(response)\n",
    "    \n",
    "    def _classify_error(self, error):\n",
    "        error_str = str(error).lower()\n",
    "        if any(word in error_str for word in ['quota', 'billing', 'credit']):\n",
    "            return 'billing'\n",
    "        elif any(word in error_str for word in ['auth', 'key', 'unauthorized']):\n",
    "            return 'auth'\n",
    "        elif any(word in error_str for word in ['model', 'not_found']):\n",
    "            return 'model'\n",
    "        elif any(word in error_str for word in ['rate', 'limit', 'too_many']):\n",
    "            return 'rate'\n",
    "        return 'unknown'\n",
    "    \n",
    "    def _billing_error_message(self):\n",
    "        return \"\"\"BILLING ERROR: Insufficient credits.\n",
    "        \n",
    "To fix this:\n",
    "1. Visit: https://platform.openai.com/settings/organization/billing/overview\n",
    "2. Add a payment method\n",
    "3. Purchase credits (minimum $5)\n",
    "4. Wait a few minutes for credits to appear\n",
    "\n",
    "Note: OpenAI requires prepaid credits for API usage.\"\"\"\n",
    "    \n",
    "    def _auth_error_message(self):\n",
    "        return \"\"\"AUTHENTICATION ERROR: Invalid API key.\n",
    "        \n",
    "To fix this:\n",
    "1. Check your API key at: https://platform.openai.com/api-keys\n",
    "2. Create a new key if needed\n",
    "3. Re-run the API key setup cell above\n",
    "\n",
    "Make sure your key starts with 'sk-' and is complete.\"\"\"\n",
    "    \n",
    "    def _model_error_message(self):\n",
    "        return f\"\"\"MODEL ERROR: {self.selected_model} not available.\n",
    "        \n",
    "This usually means:\n",
    "1. Model has been deprecated\n",
    "2. Your account doesn't have access\n",
    "3. Temporary service issue\n",
    "\n",
    "The assistant will automatically try other models.\"\"\"\n",
    "\n",
    "# Initialize assistant and set global variables\n",
    "if api_key:\n",
    "    assistant = FutureProofAssistant(api_key)\n",
    "    print(f\"\\nGlobal variables available:\")\n",
    "    print(f\"OpenAI_API_Key: {'***' + OpenAI_API_Key[-10:] if OpenAI_API_Key else 'None'}\")\n",
    "    print(f\"Model: {Model}\")\n",
    "else:\n",
    "    print(\"Cannot initialize assistant without API key\")"
   ]
  },
  {
   "cell_type": "markdown",
   "id": "84194c93",
   "metadata": {},
   "source": [
    "#### Test the Assistant"
   ]
  },
  {
   "cell_type": "markdown",
   "id": "4a57bf8d",
   "metadata": {},
   "source": [
    "In the following code, we will define a tiny wrapper ask_ai(content) that forwards calls to a globally initialized assistant (if present) and then run a quick smoke test block that only executes when api_key is available, verifying a basic response, empty-input handling, and printing selected and available models.\n",
    "\n",
    "What it does:\n",
    "- `ask_ai(content)`: Checks `globals()` for `assistant`; if found, calls `assistant.ask_ai(content)`. Otherwise returns a helpful message prompting you to run setup cells.\n",
    "- Test harness (guarded by `if api_key:`): \n",
    "  - Prints a header.\n",
    "  - Runs a basic test: `ask_ai(\"Say 'Hello, I am working!' in exactly those words.\")` to confirm the end-to-end path.\n",
    "  - Runs an empty-input test to verify validation in `assistant.ask_ai(\"\")`.\n",
    "  - Prints `assistant.selected_model` and a short preview of `assistant.models` to confirm model discovery/selection.\n",
    "  - If `api_key` is missing, it prints “Please complete API key setup first.”\n",
    "\n",
    "\n",
    "  \n"
   ]
  },
  {
   "cell_type": "code",
   "execution_count": 11,
   "id": "test-function",
   "metadata": {},
   "outputs": [
    {
     "name": "stdout",
     "output_type": "stream",
     "text": [
      "Testing assistant functionality...\n",
      "\n",
      "Basic Test: Hello, I am working!\n",
      "\n",
      "Empty Input Test: Error: Please provide a valid question.\n",
      "\n",
      "Selected Model: gpt-4.1-mini\n",
      "Available Models: ['o4-mini', 'gpt-4.1-mini', 'gpt-4.1']...\n",
      "\n",
      "Assistant is ready for use!\n"
     ]
    }
   ],
   "source": [
    "# Test the Assistant\n",
    "def ask_ai(content: str) -> str:\n",
    "    \"\"\"Simple interface to the future-proof assistant\"\"\"\n",
    "    if 'assistant' in globals():\n",
    "        return assistant.ask_ai(content)\n",
    "    else:\n",
    "        return \"Assistant not initialized. Please run the setup cells above.\"\n",
    "\n",
    "# Test with various scenarios\n",
    "if api_key:\n",
    "    print(\"Testing assistant functionality...\\n\")\n",
    "    \n",
    "    # Basic test\n",
    "    response = ask_ai(\"Say 'Hello, I am working!' in exactly those words.\")\n",
    "    print(f\"Basic Test: {response}\\n\")\n",
    "    \n",
    "    # Empty input test\n",
    "    response = ask_ai(\"\")\n",
    "    print(f\"Empty Input Test: {response}\\n\")\n",
    "    \n",
    "    # Model info\n",
    "    print(f\"Selected Model: {assistant.selected_model}\")\n",
    "    print(f\"Available Models: {assistant.models[:3]}...\")\n",
    "    \n",
    "    print(\"\\nAssistant is ready for use!\")\n",
    "else:\n",
    "    print(\"Please complete API key setup first.\")"
   ]
  },
  {
   "cell_type": "markdown",
   "id": "3ea13fb9",
   "metadata": {},
   "source": [
    "Results Explanation:\n",
    "- You should see a literal response “Hello, I am working!” for the basic test if the model and key are configured correctly.\n",
    "- The empty-input test should return the error string implemented inside `assistant.ask_ai` (e.g., “Error: Please provide a valid question.”).\n",
    "\n",
    "Context:\n",
    "- `assistant` is created earlier at notebook-global scope (e.g., `assistant = FutureProofAssistant(api_key)`), so this helper simply routes calls without reconfiguring the client.\n",
    "- The `if api_key:` guard avoids running tests when the environment is not ready.\n",
    "\n",
    "Next Steps:\n",
    "- If you see the “Assistant not initialized” message, run the setup cells that define `api_key` and instantiate `assistant`.\n",
    "- Replace the basic prompt with your real question and iterate on temperature, max tokens, or model via the assistant configuration defined earlier in the notebook."
   ]
  },
  {
   "cell_type": "markdown",
   "id": "usage-examples",
   "metadata": {},
   "source": [
    "#### Usage Examples\n",
    "\n",
    "Now you can use the `ask_ai()` function for any queries:\n",
    "\n",
    "```python\n",
    "# Simple question\n",
    "response = ask_ai(\"What is machine learning?\")\n",
    "print(response)\n",
    "\n",
    "# Complex analysis\n",
    "response = ask_ai(\"Explain the benefits of using LLMs for data analysis\")\n",
    "print(response)\n",
    "```\n",
    "\n",
    "## Future-Proof Features\n",
    "\n",
    "This setup automatically handles:\n",
    "- **API Changes**: Adapts to new OpenAI SDK versions\n",
    "- **Model Updates**: Discovers and selects optimal models\n",
    "- **Error Evolution**: Flexible error pattern matching\n",
    "- **Response Formats**: Multiple content extraction methods\n",
    "\n",
    "The assistant will continue working even as OpenAI updates their API!"
   ]
  },
  {
   "cell_type": "code",
   "execution_count": 12,
   "id": "0ece2c75",
   "metadata": {},
   "outputs": [
    {
     "data": {
      "text/plain": [
       "\"Sure! Here's one for you:\\n\\nWhy don’t scientists trust atoms?\\n\\nBecause they make up everything!\""
      ]
     },
     "execution_count": 12,
     "metadata": {},
     "output_type": "execute_result"
    }
   ],
   "source": [
    "ask_ai(\"tell me a joke\")"
   ]
  },
  {
   "cell_type": "markdown",
   "id": "bc512659",
   "metadata": {},
   "source": [
    "# Chapter 3 Starts Here\n",
    "\n"
   ]
  },
  {
   "cell_type": "markdown",
   "id": "e5ea83f5",
   "metadata": {},
   "source": [
    "## Understanding Embeddings\n",
    "\n",
    "You are here: building intuition for embeddings (vectors as points; cosine as angle).\n",
    "\n"
   ]
  },
  {
   "cell_type": "markdown",
   "id": "175a806f",
   "metadata": {},
   "source": [
    "### Your First Embedding: A Practical Example\n",
    "You are here: creating one embedding and inspecting its size and a few values.\n"
   ]
  },
  {
   "cell_type": "markdown",
   "id": "2a08c5ba",
   "metadata": {},
   "source": [
    "We’ll embed a sentence and inspect the vector length and a few dimensions."
   ]
  },
  {
   "cell_type": "code",
   "execution_count": 13,
   "id": "d392169d",
   "metadata": {},
   "outputs": [
    {
     "name": "stdout",
     "output_type": "stream",
     "text": [
      "Original Text: Data strategy is the key to powerful AI.\n",
      "\n",
      "Embedding Vector (first 5 dimensions): [0.028077449649572372, 0.00949541013687849, 0.019668230786919594, 0.0074106245301663876, 0.06587222218513489]...\n",
      "\n",
      "Total dimensions: 1536\n"
     ]
    }
   ],
   "source": [
    "# Your First Embedding.\n",
    "# Make sure you have the openai library installed\n",
    "# pip install openai\n",
    "\n",
    "import os\n",
    "from openai import OpenAI\n",
    "\n",
    "# I recommend setting your API key as an environment variable for security\n",
    "# For example: export OPENAI_API_KEY='your-api-key-here'\n",
    "# The client will automatically pick it up.\n",
    "client = OpenAI()\n",
    "\n",
    "text_to_embed = \"Data strategy is the key to powerful AI.\"\n",
    "\n",
    "EMBEDDING_MODEL = \"text-embedding-3-small\" # We're starting with the small, efficient model\n",
    "\n",
    "response = client.embeddings.create(\n",
    "    input=text_to_embed,\n",
    "    model=EMBEDDING_MODEL \n",
    ")\n",
    "\n",
    "# The embedding is a list of floats (a vector)\n",
    "embedding = response.data[0].embedding\n",
    "\n",
    "print(f\"Original Text: {text_to_embed}\")\n",
    "print(f\"\\nEmbedding Vector (first 5 dimensions): {embedding[:5]}...\")\n",
    "print(f\"\\nTotal dimensions: {len(embedding)}\")"
   ]
  },
  {
   "cell_type": "markdown",
   "id": "e25bb0ec",
   "metadata": {},
   "source": [
    "We’re making a direct embeddings call to turn text into a numeric vector that a retriever or vector database can store and search efficiently. I like starting with a single sentence so you can see the full request–response shape before batching."
   ]
  },
  {
   "cell_type": "code",
   "execution_count": 14,
   "id": "a2a9a336",
   "metadata": {},
   "outputs": [],
   "source": [
    "OpenAI_client = OpenAI()\n",
    "\n",
    "response = OpenAI_client.embeddings.create( \n",
    "    input=\"Data strategy is the key to powerful AI.\", \n",
    "    model=\"text-embedding-3-small\"   \n",
    ") \n"
   ]
  },
  {
   "cell_type": "markdown",
   "id": "9da50f40",
   "metadata": {},
   "source": [
    "The snippet instantiates `OpenAI()` and calls `embeddings.create(input=\"...\", model=\"text-embedding-3-small\")`. That API returns an object whose first item lives at `response.data[0].embedding`, which is your vector. The chosen model is a cost‑efficient default that produces 1536‑dimension embeddings suitable for most RAG pipelines; you’ll typically pass a list of strings to embed in batches for throughput."
   ]
  },
  {
   "cell_type": "code",
   "execution_count": 15,
   "id": "f7f5cb2d",
   "metadata": {},
   "outputs": [
    {
     "name": "stdout",
     "output_type": "stream",
     "text": [
      "\n",
      "Embedding Vector (first 5 dimensions): [0.028077619150280952, 0.009524666704237461, 0.019656669348478317, 0.007422348950058222, 0.06582589447498322]...\n",
      "\n",
      "Total dimensions: 1536\n"
     ]
    }
   ],
   "source": [
    "# The embedding is a list of floats (a vector)\n",
    "embedding = response.data[0].embedding\n",
    "\n",
    "print(f\"\\nEmbedding Vector (first 5 dimensions): {embedding[:5]}...\")\n",
    "print(f\"\\nTotal dimensions: {len(embedding)}\")"
   ]
  },
  {
   "cell_type": "markdown",
   "id": "9bd944ca",
   "metadata": {},
   "source": [
    "### A simple analogy: king–queen and man–woman\n",
    "\n",
    "\n",
    "\n"
   ]
  },
  {
   "cell_type": "markdown",
   "id": "64505db9",
   "metadata": {},
   "source": [
    "Before we move on, it helps to build an intuition for what “similarity” means in an embedding space. A classic illustration shows that the vector from `king` to `queen` points in a direction very similar to the vector from `man` to `woman`. In other words, relationships show up as directions in the space.\n",
    "\n",
    "![Word analogy: king–queen, man–woman](../assets/analogy_king_queen.png)\n",
    "\n",
    "**Figure 3.4: Word embedding analogy — relationships appear as similar directions.** Adapted from the well‑known word2vec analogies introduced by Mikolov et al. (2013).\n",
    "\n",
    "What does similarity mean here?\n",
    "\n",
    "- **Vectors close together → similar meaning.** When two texts mean similar things, their points land near each other. For example, “Data strategy is essential for reliable AI” and “A strong data strategy makes AI reliable” will embed close together, while “We hiked in the mountains” will be farther away.\n",
    "\n",
    "  ![Vectors close → similar meaning](../assets/vectors_close_meaning.png)\n",
    "\n",
    "  **Figure 3.5: When points are near each other in the space, their meanings are similar.**\n",
    "\n",
    "- **Directions capture relationships.** If two pairs share the same underlying relation, the difference between their vectors tends to point in a similar direction. A classic case is `king→queen` paralleling `man→woman`.\n",
    "\n",
    "  ![Directions capture relationships](../assets/directions_capture_relationships.png)\n",
    "\n",
    "  **Figure 3.6: Similar relations (king→queen, man→woman) point in similar directions.**\n",
    "\n",
    "- **We measure similarity with cosine.** Cosine compares directions, not lengths. Two paraphrases like “Apple iPhone is expensive” and “There is a new Apple iPhone” will have a higher cosine than unrelated text like “Mango is a fruit.” Smaller angle ⇒ higher cosine.\n",
    "\n",
    "  ![Cosine similarity as angle alignment](../assets/cosine_similarity_angles.png)\n",
    "\n",
    "  **Figure 3.7: Cosine similarity measures how aligned two directions are (smaller angle ⇒ higher cosine). Paraphrases “Apple iPhone is expensive” and “There is a new Apple iPhone” are close; “Mango is a fruit” points elsewhere.**"
   ]
  },
  {
   "cell_type": "markdown",
   "id": "18ac1798",
   "metadata": {},
   "source": [
    "#### Similarity numbers: a quick check\n",
    "\n",
    "Let’s verify the picture with real numbers. We’ll embed two paraphrases and one unrelated sentence, then compute cosine similarities.\n",
    "\n",
    "Here is what the following code does:\n",
    "\n",
    "- Embeds three sentences (two iPhone paraphrases + one unrelated mango sentence) using `EMBEDDING_MODEL`.\n",
    "- Computes cosine similarities to quantify what we saw in the 2D diagrams: paraphrases → higher cosine; unrelated → lower.\n",
    "- This bridges intuition to numbers before we switch to Chroma and retrieval."
   ]
  },
  {
   "cell_type": "code",
   "execution_count": 16,
   "id": "e51cc05b",
   "metadata": {},
   "outputs": [
    {
     "name": "stdout",
     "output_type": "stream",
     "text": [
      "cos(Apple iPhone is expensive, There is a new Apple iPhone): 0.618\n",
      "cos(Apple iPhone is expensive, Mango is a fruit):  0.194\n",
      "cos(There is a new Apple iPhone, Mango is a fruit):  0.211\n"
     ]
    }
   ],
   "source": [
    "import numpy as np\n",
    "from openai import OpenAI\n",
    "\n",
    "client = OpenAI()\n",
    "\n",
    "# Reuse the same model defined earlier in the chapter/notebook\n",
    "EMBEDDING_MODEL = \"text-embedding-3-small\"\n",
    "\n",
    "sents = [\n",
    "    \"Apple iPhone is expensive\",\n",
    "    \"There is a new Apple iPhone\",\n",
    "    \"Mango is a fruit\",\n",
    "]\n",
    "\n",
    "resp = client.embeddings.create(input=sents, model=EMBEDDING_MODEL)\n",
    "vecs = [d.embedding for d in resp.data]\n",
    "\n",
    "def cosine(a, b):\n",
    "    a, b = np.array(a), np.array(b)\n",
    "    return float(a @ b) / (np.linalg.norm(a) * np.linalg.norm(b))\n",
    "\n",
    "print(\"cos(Apple iPhone is expensive, There is a new Apple iPhone):\", round(cosine(vecs[0], vecs[1]), 3))\n",
    "print(\"cos(Apple iPhone is expensive, Mango is a fruit): \", round(cosine(vecs[0], vecs[2]), 3))\n",
    "print(\"cos(There is a new Apple iPhone, Mango is a fruit): \", round(cosine(vecs[1], vecs[2]), 3))"
   ]
  },
  {
   "cell_type": "markdown",
   "id": "64bcd8fd",
   "metadata": {},
   "source": [
    "\n",
    "### Why embeddings matter\n",
    "\n",
    "When we say “vectorizing text,” we’re converting words into numbers so a model can compare meaning efficiently. A few key ideas:\n",
    "\n",
    "- **Vector = list of numbers**: Your sentence becomes a 1,536‑number vector with `text-embedding-3-small`. Think of this as 1,536 semantic dials.\n",
    "- **Similarity ≈ closeness**: Two sentences about the same idea produce vectors that point in similar directions. We measure this with cosine similarity (scores closer to 1.0 mean more similar).\n",
    "- **Why not keywords?** Keywords miss paraphrases. Vectors capture meaning, so “marketing sync” and “campaign meeting” can be near each other.\n",
    "\n",
    "Practical trade‑offs you’ll make in production:\n",
    "- **Cost vs nuance**: `-3-small` (1536 dims) is cheaper/faster; `-3-large` (3072 dims) captures more nuance but costs more.\n",
    "- **Storage and speed**: Bigger vectors need more storage and are slower to search. Start small; scale up only if retrieval quality needs it.\n",
    "\n",
    "What to look for in the output you saw:\n",
    "- `Type: list` and `Items: 1`: You embedded 1 sentence, so you got a list with 1 vector.\n",
    "- `Vector length (dimensions): 1536`: The model’s dimensionality. This is correct for `text-embedding-3-small`.\n",
    "- The first few numbers are `float32`s. Individual values don’t mean much alone—the whole vector is meaningful when compared against others.\n"
   ]
  },
  {
   "cell_type": "markdown",
   "id": "f98c3807",
   "metadata": {},
   "source": [
    "\n",
    "### What is a vector? (30‑second primer)\n",
    "- A vector is just a list of numbers, like `[0.12, −0.03, 0.54, …]`. You can picture it as a point in space.\n",
    "- In 2D you would write `(x, y)`. With `text-embedding-3-small`, we have 1,536 numbers — a point in a much higher‑dimensional space.\n",
    "- We compare vectors using cosine similarity. Think of it as “how aligned are these directions?” Closer to 1.0 means more similar in meaning.\n",
    "- Don’t read any single number in isolation; the meaning lives in the whole vector.\n",
    "\n",
    "![Vector Similarity (cosine)](../assets/cosine_similarity_angles.png)\n",
    "\n",
    "> Cosine similarity compares the angle between vectors: smaller angle → higher similarity (closer in meaning).\n"
   ]
  },
  {
   "cell_type": "code",
   "execution_count": 17,
   "id": "9af7720f",
   "metadata": {},
   "outputs": [],
   "source": [
    "# Embedding helper with safe fallback (zeros) to support non-interactive runs\n",
    "import os\n",
    "def openai_ef(texts):\n",
    "    key = os.getenv('OPENAI_API_KEY','').strip()\n",
    "    if not (key.startswith('sk-') and len(key) >= 40):\n",
    "        # Fallback: deterministic zero vectors (1536 dims)\n",
    "        return [[0.0]*1536 for _ in texts]\n",
    "    from openai import OpenAI\n",
    "    client = OpenAI()\n",
    "    res = client.embeddings.create(input=texts, model='text-embedding-3-small')\n",
    "    return [d.embedding for d in res.data]\n"
   ]
  },
  {
   "cell_type": "code",
   "execution_count": 18,
   "id": "30e57525",
   "metadata": {},
   "outputs": [
    {
     "name": "stdout",
     "output_type": "stream",
     "text": [
      "cos(s1, s2): 0.868\n",
      "cos(s1, s3): -0.0387\n"
     ]
    }
   ],
   "source": [
    "# Similarity sanity check — similar sentences should score higher\n",
    "import numpy as np\n",
    "\n",
    "s1 = ['Data strategy is essential for reliable AI.']\n",
    "s2 = ['A strong data strategy is critical for building reliable AI systems.']\n",
    "s3 = ['We went hiking in the mountains yesterday.']\n",
    "\n",
    "v1 = np.array(openai_ef(s1)[0], dtype=np.float32)\n",
    "v2 = np.array(openai_ef(s2)[0], dtype=np.float32)\n",
    "v3 = np.array(openai_ef(s3)[0], dtype=np.float32)\n",
    "\n",
    "def cos_sim(a, b):\n",
    "    a = a / (np.linalg.norm(a) + 1e-12)\n",
    "    b = b / (np.linalg.norm(b) + 1e-12)\n",
    "    return float(np.dot(a, b))\n",
    "\n",
    "print('cos(s1, s2):', round(cos_sim(v1, v2), 4))\n",
    "print('cos(s1, s3):', round(cos_sim(v1, v3), 4))"
   ]
  },
  {
   "cell_type": "markdown",
   "id": "d7298279",
   "metadata": {},
   "source": [
    "\n",
    "### How to read the similarity scores\n",
    "- `cos(s1, s2)` should be noticeably higher than `cos(s1, s3)` because s1 and s2 express the same idea with different words.\n",
    "- Cosine similarity is in the range [-1, 1], and for embeddings like these you’ll typically see values between 0 and ~0.9 for unrelated vs. strongly related texts.\n",
    "- If the gap between similar and dissimilar pairs is small on your data, you may consider:\n",
    "  - Using a larger model (e.g., `text-embedding-3-large`)\n",
    "  - Improving your chunking strategy\n",
    "  - Enhancing your retrieval (filters, rerankers)\n"
   ]
  },
  {
   "cell_type": "markdown",
   "id": "5a7ee0ed",
   "metadata": {},
   "source": [
    "\n",
    "### References\n",
    "- Mikolov, T., Chen, K., Corrado, G., & Dean, J. (2013). Efficient Estimation of Word Representations in Vector Space. arXiv:1301.3781.\n"
   ]
  },
  {
   "cell_type": "markdown",
   "id": "eb7a55c3",
   "metadata": {},
   "source": [
    "## From a Sentence to a Document: The Need for Chunking\n",
    "You are here: Chapter 3 — Data Preparation → Section: Intelligent Chunking (from sentence-level embeddings to document-scale retrieval)."
   ]
  },
  {
   "cell_type": "markdown",
   "id": "5a10ef1c",
   "metadata": {},
   "source": [
    "### The Naive Approach: Fixed-Size Chunking\n"
   ]
  },
  {
   "cell_type": "code",
   "execution_count": 19,
   "id": "322aa8e0",
   "metadata": {},
   "outputs": [
    {
     "name": "stdout",
     "output_type": "stream",
     "text": [
      "Generated Chunks:\n",
      "Chunk 1: 'Data strategy is fundamental to building powerful and reliable AI systems. Without a clear strategy,'\n",
      "Chunk 2: 'ut a clear strategy, models may produce inaccurate or irrelevant results, leading to a poor user exp'\n",
      "Chunk 3: 'g to a poor user experience and a lack of trust in the system.'\n"
     ]
    }
   ],
   "source": [
    "# A simple function to demonstrate fixed-size chunking\n",
    "def fixed_size_chunker(text: str, chunk_size: int, overlap: int):\n",
    "    chunks = []\n",
    "    for i in range(0, len(text), chunk_size - overlap):\n",
    "        chunks.append(text[i:i + chunk_size])\n",
    "    return chunks\n",
    "\n",
    "long_text = \"Data strategy is fundamental to building powerful and reliable AI systems. Without a clear strategy, models may produce inaccurate or irrelevant results, leading to a poor user experience and a lack of trust in the system.\"\n",
    "\n",
    "# Let's use a small chunk size to see the problem clearly\n",
    "chunks = fixed_size_chunker(long_text, chunk_size=100, overlap=20)\n",
    "\n",
    "print(\"Generated Chunks:\")\n",
    "for i, chunk in enumerate(chunks):\n",
    "    print(f\"Chunk {i+1}: '{chunk}'\")"
   ]
  },
  {
   "cell_type": "markdown",
   "id": "58f58f17",
   "metadata": {},
   "source": [
    "#### Fixed-Size Chunking — What each line does\n",
    "\n",
    "- **Function signature**: `fixed_size_chunker(text, chunk_size, overlap)`\n",
    "- **text**: the full string to split\n",
    "- **chunk_size**: max characters per chunk\n",
    "- **overlap**: characters to repeat between consecutive chunks to preserve some context\n",
    "- **Initialize list**: `chunks = []` prepares storage for results.\n",
    "- **Main loop**: `for i in range(0, len(text), chunk_size - overlap):`\n",
    "- **Step size**: strides of `chunk_size - overlap` (e.g., 100 - 20 = 80) so consecutive chunks overlap by 20 characters.\n",
    "- **Slice and append**: `text[i:i + chunk_size]` takes up to `chunk_size` characters starting at `i`, then appends to `chunks`.\n",
    "- **Return**: gives back the list of chunk strings.\n",
    "- **Demo text**: `long_text = ...` a paragraph to make boundary issues obvious.\n",
    "- **Parameters**: `chunk_size=100, overlap=20` small size to exaggerate mid-sentence cuts; overlap tries to soften boundary loss.\n",
    "- **Print header**: readability only.\n",
    "- **Enumerate and print**: shows each chunk so you can inspect where cuts happened."
   ]
  },
  {
   "cell_type": "markdown",
   "id": "183bf714",
   "metadata": {},
   "source": []
  },
  {
   "cell_type": "markdown",
   "id": "1a06a9f2",
   "metadata": {},
   "source": [
    "### A Smarter Approach: Semantic Chunking\n"
   ]
  },
  {
   "cell_type": "code",
   "execution_count": 20,
   "id": "1af0d100",
   "metadata": {},
   "outputs": [
    {
     "name": "stdout",
     "output_type": "stream",
     "text": [
      "SUCCESS: sentence-transformers\n",
      "SUCCESS: nltk\n"
     ]
    }
   ],
   "source": [
    "# You'll need to install sentence-transformers and a library for sentence tokenization\n",
    "# pip install sentence-transformers nltk\n",
    "\n",
    "import sys, subprocess\n",
    "\n",
    "def install_quiet(packages):\n",
    "    results = []\n",
    "    for pkg in packages:\n",
    "        try:\n",
    "            subprocess.run(\n",
    "                [sys.executable, \"-m\", \"pip\", \"install\", pkg, \"--quiet\"],\n",
    "                check=True, capture_output=True, text=True\n",
    "            )\n",
    "            results.append(f\"SUCCESS: {pkg}\")\n",
    "        except subprocess.CalledProcessError:\n",
    "            # Fallback for externally managed environments (e.g., Homebrew Python)\n",
    "            try:\n",
    "                subprocess.run(\n",
    "                    [sys.executable, \"-m\", \"pip\", \"install\", pkg, \"--quiet\", \"--break-system-packages\"],\n",
    "                    check=True, capture_output=True, text=True\n",
    "                )\n",
    "                results.append(f\"SUCCESS: {pkg} (system override)\")\n",
    "            except subprocess.CalledProcessError as e2:\n",
    "                results.append(f\"FAILED: {pkg}\")\n",
    "    # Minimal summary\n",
    "    for line in results:\n",
    "        print(line)\n",
    "\n",
    "install_quiet([\"sentence-transformers\", \"nltk\"])"
   ]
  },
  {
   "cell_type": "code",
   "execution_count": 21,
   "id": "89e825af",
   "metadata": {},
   "outputs": [],
   "source": [
    "# Quiet NLTK punkt setup (handles newer punkt_tab too)\n",
    "import nltk\n",
    "\n",
    "def ensure_nltk_punkt():\n",
    "    try:\n",
    "        nltk.data.find(\"tokenizers/punkt\")\n",
    "    except LookupError:\n",
    "        nltk.download(\"punkt\", quiet=True)\n",
    "    # Some NLTK versions also need punkt_tab\n",
    "    try:\n",
    "        nltk.data.find(\"tokenizers/punkt_tab\")\n",
    "    except LookupError:\n",
    "        try:\n",
    "            nltk.download(\"punkt_tab\", quiet=True)\n",
    "        except Exception:\n",
    "            pass  # Not all versions have punkt_tab\n",
    "\n",
    "ensure_nltk_punkt()"
   ]
  },
  {
   "cell_type": "code",
   "execution_count": 22,
   "id": "2c2ed9cc",
   "metadata": {},
   "outputs": [
    {
     "name": "stdout",
     "output_type": "stream",
     "text": [
      "Sentences:\n",
      "- Data strategy is fundamental to building powerful and reliable AI systems.\n",
      "- Without a clear strategy, models may produce inaccurate or irrelevant results.\n",
      "- This leads to a poor user experience and a lack of trust in the system.\n",
      "- Therefore, a robust data pipeline is essential for success.\n",
      "\n",
      "Similarity between adjacent sentences:\n",
      "  Similarity between sentence 1 and 2: 0.3898\n",
      "  Similarity between sentence 2 and 3: 0.2248\n",
      "  Similarity between sentence 3 and 4: 0.1719\n"
     ]
    }
   ],
   "source": [
    "from sentence_transformers import SentenceTransformer, util\n",
    "\n",
    "model = SentenceTransformer(\"all-MiniLM-L6-v2\")\n",
    "\n",
    "long_text = (\n",
    "    \"Data strategy is fundamental to building powerful and reliable AI systems. \"\n",
    "    \"Without a clear strategy, models may produce inaccurate or irrelevant results. \"\n",
    "    \"This leads to a poor user experience and a lack of trust in the system. \"\n",
    "    \"Therefore, a robust data pipeline is essential for success.\"\n",
    ")\n",
    "\n",
    "# 1) Sentence split\n",
    "sentences = nltk.sent_tokenize(long_text)\n",
    "\n",
    "# 2) Embeddings\n",
    "embeddings = model.encode(sentences)\n",
    "\n",
    "# 3) Adjacent similarities\n",
    "similarities = util.cos_sim(embeddings[:-1], embeddings[1:])\n",
    "\n",
    "print(\"Sentences:\")\n",
    "for s in sentences:\n",
    "    print(f\"- {s}\")\n",
    "\n",
    "print(\"\\nSimilarity between adjacent sentences:\")\n",
    "for i in range(len(similarities)):\n",
    "    print(f\"  Similarity between sentence {i+1} and {i+2}: {similarities[i][i]:.4f}\")\n",
    "\n",
    "# In a full implementation, you would use these similarity scores\n",
    "# to decide where to group sentences into chunks.\n",
    "# For example, you could create a new chunk whenever the similarity drops below a threshold (e.g., 0.85)."
   ]
  },
  {
   "cell_type": "markdown",
   "id": "1dcb5603",
   "metadata": {},
   "source": [
    "### Graph Database Integration - Connecting the Dots"
   ]
  },
  {
   "cell_type": "code",
   "execution_count": 23,
   "id": "dbecd9ed",
   "metadata": {},
   "outputs": [
    {
     "data": {
      "image/png": "[encoded data removed]",
      "text/plain": [
       "<Figure size 640x480 with 1 Axes>"
      ]
     },
     "metadata": {},
     "output_type": "display_data"
    }
   ],
   "source": [
    "# You'll need to install networkx and matplotlib to visualize the graph\n",
    "# pip install networkx matplotlib\n",
    "\n",
    "import networkx as nx\n",
    "import matplotlib.pyplot as plt\n",
    "\n",
    "# Create a new directed graph\n",
    "G = nx.DiGraph()\n",
    "\n",
    "# Add nodes with properties (attributes)\n",
    "G.add_node(\"Rany EL\", type='Person', title='Senior Manager')\n",
    "G.add_node(\"Phoenix Project\", type='Project')\n",
    "G.add_node(\"AI Division\", type='Division')\n",
    "\n",
    "# Add directed relationships (edges) between the nodes\n",
    "G.add_edge(\"Rany EL\", \"Phoenix Project\", label='LEADS')\n",
    "G.add_edge(\"Rany EL\", \"AI Division\", label='WORKS_IN')\n",
    "\n",
    "# Now, let's do a simple visualization to see what we've built\n",
    "pos = nx.spring_layout(G)\n",
    "edge_labels = nx.get_edge_attributes(G, 'label')\n",
    "\n",
    "nx.draw(G, pos, with_labels=True, node_size=3000, node_color='skyblue', font_size=10)\n",
    "nx.draw_networkx_edge_labels(G, pos, edge_labels=edge_labels)\n",
    "\n",
    "plt.show()"
   ]
  },
  {
   "cell_type": "markdown",
   "id": "8e53ad17",
   "metadata": {},
   "source": []
  },
  {
   "cell_type": "markdown",
   "id": "4f93f529",
   "metadata": {},
   "source": [
    "## The Indexing Pipeline - Building Our Knowledge Catalog"
   ]
  },
  {
   "cell_type": "markdown",
   "id": "f33c666e",
   "metadata": {},
   "source": [
    "### Installing Chromadb for Google Colab\n"
   ]
  },
  {
   "cell_type": "code",
   "execution_count": 24,
   "id": "a9d87356",
   "metadata": {},
   "outputs": [],
   "source": [
    "import sys, subprocess\n",
    "IN_COLAB = 'google.colab' in sys.modules\n",
    "if IN_COLAB:\n",
    "    try:\n",
    "        subprocess.run([sys.executable, '-m', 'pip', 'install', 'chromadb==0.5.5', '--quiet'], check=False)\n",
    "    except Exception as e:\n",
    "        print(f'WARNING: pip install failed: {e}')\n"
   ]
  },
  {
   "cell_type": "markdown",
   "id": "3a8eb2a6",
   "metadata": {},
   "source": [
    "### Initialize the vector store for indexing\n",
    "\n",
    "The following code sets up the minimal infrastructure for our indexing pipeline.\n",
    "\n",
    "- __What this does__\n",
    "  - `chroma_client = chromadb.PersistentClient(path=\"db\")`: Initializes a persistent ChromaDB client at `./db` (local disk for this demo)\n",
    "  - `collection = chroma_client.get_or_create_collection(name=\"chapter4_collection\")`: Creates or opens the `chapter4_collection` where embeddings and source text will be stored\n",
    "\n",
    "- __Why this matters__\n",
    "  - The collection acts like a vector “table” we’ll reuse throughout the notebook\n",
    "  - Persistence lets you run subsequent cells without re-indexing each time\n",
    "\n",
    "- __Notes__\n",
    "  - Local persistence is convenient for learning\n",
    "  - For production, prefer a managed/vector DB with proper lifecycle, observability, and access controls"
   ]
  },
  {
   "cell_type": "code",
   "execution_count": 25,
   "id": "a31e7c52",
   "metadata": {},
   "outputs": [
    {
     "name": "stdout",
     "output_type": "stream",
     "text": [
      "SUCCESS: Using book environment (data_strategy_env)\n",
      "NumPy version: 1.26.4\n",
      "SUCCESS: NumPy version compatible with ChromaDB\n",
      "SUCCESS: ChromaDB available\n",
      "SUCCESS: OpenAI client available\n"
     ]
    }
   ],
   "source": [
    "import sys\n",
    "import os\n",
    "\n",
    "# print(\"=== Environment Verification ===\")\n",
    "# print(f\"Python executable: {sys.executable}\")\n",
    "# print(f\"Python version: {sys.version}\")\n",
    "\n",
    "# Check if we're using the shared book environment\n",
    "if 'data_strategy_env' in sys.executable:\n",
    "    print(\"SUCCESS: Using book environment (data_strategy_env)\")\n",
    "else:\n",
    "    print(\"WARNING: Not using data_strategy_env\")\n",
    "    print(\"   Expected path should contain 'data_strategy_env'\")\n",
    "\n",
    "# Check current working directory\n",
    "# print(f\"Working directory: {os.getcwd()}\")\n",
    "\n",
    "# Verify key packages and versions\n",
    "try:\n",
    "    import numpy\n",
    "    print(f\"NumPy version: {numpy.__version__}\")\n",
    "    if numpy.__version__.startswith('1.'):\n",
    "        print(\"SUCCESS: NumPy version compatible with ChromaDB\")\n",
    "    else:\n",
    "        print(\"WARNING: NumPy version may cause ChromaDB issues\")\n",
    "except ImportError:\n",
    "    print(\"ERROR: NumPy not installed\")\n",
    "\n",
    "try:\n",
    "    import chromadb\n",
    "    print(\"SUCCESS: ChromaDB available\")\n",
    "except ImportError as e:\n",
    "    print(f\"ERROR: ChromaDB not available: {e}\")\n",
    "\n",
    "try:\n",
    "    from openai import OpenAI\n",
    "    print(\"SUCCESS: OpenAI client available\")\n",
    "except Exception:\n",
    "    try:\n",
    "        import openai\n",
    "        print(\"SUCCESS: OpenAI available (legacy import)\")\n",
    "    except ImportError:\n",
    "        print(\"ERROR: OpenAI not available\")\n"
   ]
  },
  {
   "cell_type": "code",
   "execution_count": 26,
   "id": "8e724ef8",
   "metadata": {},
   "outputs": [],
   "source": [
    "# First, make sure you have the necessary libraries installed\n",
    "# pip install chromadb\n",
    "\n",
    "import chromadb\n",
    "from pathlib import Path\n",
    "\n",
    "# --- 1. Setup ---\n",
    "# Use a shared on-disk DB for Chapters 4 and 5\n",
    "repo_root = Path().cwd()\n",
    "while not (repo_root / 'utils').exists() and repo_root.parent != repo_root:\n",
    "    repo_root = repo_root.parent\n",
    "SHARED_DB = repo_root / 'data' / 'chroma_db'\n",
    "SHARED_DB.mkdir(parents=True, exist_ok=True)\n",
    "\n",
    "chroma_client = chromadb.PersistentClient(path=str(SHARED_DB))\n",
    "\n",
    "\n"
   ]
  },
  {
   "cell_type": "code",
   "execution_count": 27,
   "id": "5b655268",
   "metadata": {},
   "outputs": [],
   "source": [
    "\n",
    "\n",
    "rany_demo_client = chromadb.PersistentClient(path=\"data/rany\")\n"
   ]
  },
  {
   "cell_type": "markdown",
   "id": "324a1b14",
   "metadata": {},
   "source": [
    "We’re setting up the embedding function that turns text into vectors so the retriever can index and search efficiently. I prefer to define this once, early, so everything downstream (collection creation, add/upsert) uses a single, consistent embedding configuration."
   ]
  },
  {
   "cell_type": "code",
   "execution_count": 28,
   "id": "ab71b6f0",
   "metadata": {},
   "outputs": [],
   "source": [
    "from chromadb.utils import embedding_functions \n",
    " \n",
    "\n",
    "ef = embedding_functions.OpenAIEmbeddingFunction( \n",
    " api_key=os.getenv(\"OPENAI_API_KEY\"), \n",
    " model_name=\"text-embedding-3-small\", \n",
    ") "
   ]
  },
  {
   "cell_type": "markdown",
   "id": "d8123b2a",
   "metadata": {},
   "source": [
    "The snippet initializes `embedding_functions.OpenAIEmbeddingFunction` and assigns it to `ef`. It pulls the API key from the environment via `os.getenv(\"OPENAI_API_KEY\")`, so there’s no hardcoded secrets, and specifies `model_name=\"text-embedding-3-small\"` as a cost‑efficient default. Practically, `ef` is just a callable that accepts a list of strings and returns their embeddings; vector stores (e.g., when you call `create_collection(..., embedding_function=ef)`) will invoke it automatically during add/upsert."
   ]
  },
  {
   "cell_type": "markdown",
   "id": "56cc9887",
   "metadata": {},
   "source": [
    "We’re creating (or reusing) a vector collection that the indexing pipeline will write to. I keep this early in the setup so every subsequent add/upsert, query, and reindex targets a single, well-named collection without surprises."
   ]
  },
  {
   "cell_type": "code",
   "execution_count": 29,
   "id": "7bb8eada",
   "metadata": {},
   "outputs": [],
   "source": [
    "# Get or create a collection. This is like a table in a traditional database.\n",
    "# We can also specify the embedding model we want to use.\n",
    "collection = chroma_client.get_or_create_collection(\n",
    "    name=\"book_collection\",\n",
    "    embedding_function=ef\n",
    ")"
   ]
  },
  {
   "cell_type": "markdown",
   "id": "d0846be6",
   "metadata": {},
   "source": [
    "The call to `chroma_client.get_or_create_collection(name=\"book_collection\", embedding_function=ef)` returns a `collection` handle. If the collection exists, it’s reused; if not, it’s created. Passing `embedding_function=ef` ensures consistent embeddings during ingestion so you don’t accidentally mix models across runs."
   ]
  },
  {
   "cell_type": "markdown",
   "id": "956b6cca",
   "metadata": {},
   "source": [
    "### Results and verification\n",
    "\n",
    "After running the above code:\n",
    "\n",
    "- __Expected results__\n",
    "  - ChromaDB client connected to local database\n",
    "  - Collection handle ready for document operations\n",
    "\n",
    "- __Verify the results__\n",
    "  "
   ]
  },
  {
   "cell_type": "code",
   "execution_count": 30,
   "id": "ebcc7107",
   "metadata": {},
   "outputs": [
    {
     "name": "stdout",
     "output_type": "stream",
     "text": [
      "Database directory exists: True\n",
      "Collection count: 11\n",
      "Collection name: book_collection\n"
     ]
    }
   ],
   "source": [
    "# Check if database directory was created\n",
    "import os\n",
    "from pathlib import Path\n",
    "repo_root = Path().cwd()\n",
    "while not (repo_root / 'utils').exists() and repo_root.parent != repo_root:\n",
    "    repo_root = repo_root.parent\n",
    "SHARED_DB = repo_root / 'data' / 'chroma_db'\n",
    "print(f\"Database directory exists: {SHARED_DB.exists()}\")\n",
    "\n",
    "# Verify collection was created\n",
    "print(f\"Collection count: {collection.count()}\")\n",
    "print(f\"Collection name: {collection.name}\")\n"
   ]
  },
  {
   "cell_type": "markdown",
   "id": "9eb59085",
   "metadata": {},
   "source": [
    "We’re adding a single sentence to the collection to verify the indexing path end to end. I like doing this quick sanity check before batch ingestion so we know the collection accepts new items and the embedding function is wired correctly."
   ]
  },
  {
   "cell_type": "code",
   "execution_count": 31,
   "id": "4940b903",
   "metadata": {},
   "outputs": [
    {
     "name": "stderr",
     "output_type": "stream",
     "text": [
      "Add of existing embedding ID: manual_1\n",
      "Insert of existing embedding ID: manual_1\n"
     ]
    }
   ],
   "source": [
    "collection.add(documents=[\"This is a quick test sentence to index.\"], ids=[\"manual_1\"])"
   ]
  },
  {
   "cell_type": "markdown",
   "id": "a859b189",
   "metadata": {},
   "source": [
    "Calling `collection.add(documents=[\"This is a quick test sentence to index.\"], ids=[\"manual_1\"])` inserts one record with a unique ID. Because we passed `embedding_function=ef` when creating the collection, Chroma embeds the text automatically (unless you supply `embeddings=` yourself). Keep IDs unique and stable, and ensure the collection’s embedding dimensionality matches the model you’re using."
   ]
  },
  {
   "cell_type": "markdown",
   "id": "af3cbde9",
   "metadata": {},
   "source": [
    "This helper gives us a tiny “VectorIndexer” we can call anywhere: hand it a list of texts and it will generate stable IDs, skip what’s already in the collection, and write the rest in small batches. I like this pattern because it’s safe to re-run and it keeps the ingestion logic in one place."
   ]
  },
  {
   "cell_type": "code",
   "execution_count": 32,
   "id": "e5b521e6",
   "metadata": {},
   "outputs": [],
   "source": [
    "import hashlib\n",
    "from typing import Iterable, List, Optional, Dict, Any\n",
    "\n",
    "def vector_indexer(\n",
    "    collection,\n",
    "    texts: Iterable[str],\n",
    "    id_prefix: str = \"txt\",\n",
    "    metadatas: Optional[List[Dict[str, Any]]] = None,\n",
    "    batch_size: int = 128,\n",
    ") -> List[str]:\n",
    "    \"\"\"\n",
    "    Minimal indexing helper.\n",
    "    Assumes the collection was created with embedding_function=... so embeddings are computed automatically.\n",
    "    Uses content-hash IDs for idempotency: same text -> same ID.\n",
    "    \"\"\"\n",
    "    texts = list(texts)\n",
    "    ids = [f\"{id_prefix}_{hashlib.sha1(t.encode('utf-8')).hexdigest()[:16]}\" for t in texts]\n",
    "\n",
    "    # Skip documents that already exist (best-effort)\n",
    "    try:\n",
    "        existing = set(collection.get(ids=ids)[\"ids\"])\n",
    "    except Exception:\n",
    "        existing = set()\n",
    "\n",
    "    pending_docs, pending_ids, pending_metas = [], [], []\n",
    "    written = []\n",
    "\n",
    "    for i, (t, _id) in enumerate(zip(texts, ids)):\n",
    "        if _id in existing:\n",
    "            continue\n",
    "        pending_docs.append(t)\n",
    "        pending_ids.append(_id)\n",
    "        if metadatas:\n",
    "            pending_metas.append(metadatas[i])\n",
    "        if len(pending_docs) >= batch_size:\n",
    "            collection.add(\n",
    "                documents=pending_docs,\n",
    "                ids=pending_ids,\n",
    "                metadatas=pending_metas if metadatas else None,\n",
    "            )\n",
    "            written.extend(pending_ids)\n",
    "            pending_docs, pending_ids, pending_metas = [], [], []\n",
    "\n",
    "    if pending_ids:\n",
    "        collection.add(\n",
    "            documents=pending_docs,\n",
    "            ids=pending_ids,\n",
    "            metadatas=pending_metas if metadatas else None,\n",
    "        )\n",
    "        written.extend(pending_ids)\n",
    "\n",
    "    return written"
   ]
  },
  {
   "cell_type": "markdown",
   "id": "75889093",
   "metadata": {},
   "source": [
    "The function builds deterministic IDs using a SHA‑1 hash of each text (`hashlib.sha1(...).hexdigest()[:16]`) with an `id_prefix`, then does a best‑effort lookup via `collection.get(ids=ids)` to avoid duplicates. It stages documents in memory and flushes them in batches to `collection.add(documents=..., ids=..., metadatas=...)`, extending the `written` list each time. If the collection was created with `embedding_function=...`, Chroma computes embeddings automatically on add; otherwise you would pass `embeddings=` explicitly. The return value is the list of IDs that were actually written this run."
   ]
  },
  {
   "cell_type": "code",
   "execution_count": 33,
   "id": "8a23125b",
   "metadata": {},
   "outputs": [
    {
     "name": "stdout",
     "output_type": "stream",
     "text": [
      "Indexed 0 items\n"
     ]
    }
   ],
   "source": [
    "# After creating the collection with embedding_function=ef\n",
    "ids = vector_indexer(collection, [\"First line\", \"Second line\"], id_prefix=\"demo\")\n",
    "print(f\"Indexed {len(ids)} items\")"
   ]
  },
  {
   "cell_type": "code",
   "execution_count": 34,
   "id": "91e40a56",
   "metadata": {},
   "outputs": [],
   "source": [
    "# --- 2. Our Raw Data --- \n",
    "# In a real system, this would come from files, a database, or an API.\n",
    "# For our example, we'll just use a list of strings.\n",
    "documents = [\n",
    "    \"The company's new AI policy, effective June 1st, requires all employees to complete a mandatory training course.\",\n",
    "    \"Our Q2 financial results show a 15% increase in revenue, driven by strong sales in the European market.\",\n",
    "    \"The Phoenix Project, our next-generation AI platform, is scheduled for a beta release in the third quarter.\",\n",
    "    \"All travel and expense reports must be submitted through the new online portal by the 25th of each month.\"\n",
    "]"
   ]
  },
  {
   "cell_type": "markdown",
   "id": "efe8e8cf",
   "metadata": {},
   "source": [
    "We’re switching from a manual for‑loop to a tiny VectorIndexer call so the ingestion path is one line: give it the list of documents and it will generate stable IDs, skip anything already present, and write the rest. I like this pattern because it’s safe to re-run and it keeps the “how to index” logic in one place instead of scattering it across the notebook."
   ]
  },
  {
   "cell_type": "code",
   "execution_count": 35,
   "id": "7c433b77",
   "metadata": {},
   "outputs": [
    {
     "name": "stdout",
     "output_type": "stream",
     "text": [
      "Indexed 0 new items: []\n"
     ]
    }
   ],
   "source": [
    "# --- 3. The Indexing Process (using vector_indexer) ---\n",
    "# This will generate stable IDs, skip existing items, and add the rest in batches.\n",
    "written_ids = vector_indexer(\n",
    "    collection=collection,\n",
    "    texts=documents,\n",
    "    id_prefix=\"doc\"  # so IDs look like doc_<hash>\n",
    ")\n",
    "\n",
    "print(f\"Indexed {len(written_ids)} new items: {written_ids}\")"
   ]
  },
  {
   "cell_type": "markdown",
   "id": "0e39cbe0",
   "metadata": {},
   "source": [
    "The call to `vector_indexer(collection=collection, texts=documents, id_prefix=\"doc\")` computes deterministic IDs from each text (content hash with a prefix), does a best‑effort lookup via `collection.get(ids=...)` to avoid duplicates, and batches writes through `collection.add(...)`. Because the collection was created with `embedding_function=...`, embeddings are computed automatically on add. The function returns `written_ids`, the IDs actually inserted in this run, which we print to confirm what was indexed."
   ]
  },
  {
   "cell_type": "code",
   "execution_count": 36,
   "id": "e7599c8c",
   "metadata": {},
   "outputs": [
    {
     "name": "stdout",
     "output_type": "stream",
     "text": [
      "\n",
      "The collection now contains 11 items.\n"
     ]
    }
   ],
   "source": [
    "# --- 4. Verification ---\n",
    "# Let's check how many items are in our collection.\n",
    "\n",
    "count = collection.count()\n",
    "print(f\"\\nThe collection now contains {count} items.\")"
   ]
  },
  {
   "cell_type": "markdown",
   "id": "0db7118e",
   "metadata": {},
   "source": [
    "The following example adds the same documents manually. I kept it just for showing the difference. We will be using vector_indexer() in the future."
   ]
  },
  {
   "cell_type": "code",
   "execution_count": 37,
   "id": "fa686796",
   "metadata": {},
   "outputs": [
    {
     "name": "stdout",
     "output_type": "stream",
     "text": [
      "Document id_0 already exists in the collection.\n",
      "Document id_1 already exists in the collection.\n",
      "Document id_2 already exists in the collection.\n",
      "Document id_3 already exists in the collection.\n",
      "\n",
      "The collection now contains 11 items.\n"
     ]
    }
   ],
   "source": [
    "# --- 2. Our Raw Data --- \n",
    "# In a real system, this would come from files, a database, or an API.\n",
    "# For our example, we'll just use a list of strings.\n",
    "documents = [\n",
    "    \"The company's new AI policy, effective June 1st, requires all employees to complete a mandatory training course.\",\n",
    "    \"Our Q2 financial results show a 15% increase in revenue, driven by strong sales in the European market.\",\n",
    "    \"The Phoenix Project, our next-generation AI platform, is scheduled for a beta release in the third quarter.\",\n",
    "    \"All travel and expense reports must be submitted through the new online portal by the 25th of each month.\"\n",
    "]\n",
    "\n",
    "# --- 3. The Indexing Process --- \n",
    "# We need to add each document to our collection. ChromaDB will handle\n",
    "# the embedding process for us automatically if we don't provide our own.\n",
    "# We also need to provide a unique ID for each document.\n",
    "\n",
    "# It's good practice to check if the document already exists before adding.\n",
    "existing_ids = collection.get(ids=[f\"id_{i}\" for i in range(len(documents))])['ids']\n",
    "\n",
    "for i, doc in enumerate(documents):\n",
    "    # Create a predictable ID for this document (id_0, id_1, etc.)\n",
    "    doc_id = f\"id_{i}\"\n",
    "    \n",
    "    # Only add the document if it's not already in the collection\n",
    "    if doc_id not in existing_ids:\n",
    "        collection.add(\n",
    "            documents=[doc],  # The actual text content\n",
    "            ids=[doc_id]      # Our unique identifier\n",
    "        )\n",
    "        print(f\"Added document {doc_id} to the collection.\")\n",
    "    else:\n",
    "        print(f\"Document {doc_id} already exists in the collection.\")\n",
    "\n",
    "# --- 4. Verification --- \n",
    "# Let's check how many items are in our collection.\n",
    "count = collection.count()\n",
    "print(f\"\\nThe collection now contains {count} items.\")"
   ]
  },
  {
   "cell_type": "code",
   "execution_count": 38,
   "id": "72ba18dd",
   "metadata": {},
   "outputs": [
    {
     "name": "stdout",
     "output_type": "stream",
     "text": [
      "Document IDs: ['demo_b456a020d1eecda5', 'demo_ce405c63b181a6ab', 'doc_3881aea93a79aa81', 'doc_4c1db3c165dd788a', 'doc_7da6c838a91b28c5', 'doc_e703d12f46044bda', 'id_0', 'id_1', 'id_2', 'id_3', 'manual_1']\n",
      "A document preview: The Phoenix Project, our next-generation AI platfo...\n"
     ]
    }
   ],
   "source": [
    "# Let's also peek at what's actually stored\n",
    "all_data = collection.get()\n",
    "print(f\"Document IDs: {all_data['ids']}\")\n",
    "print(f\"A document preview: {all_data['documents'][3][:50]}...\")"
   ]
  },
  {
   "cell_type": "markdown",
   "id": "ad272310",
   "metadata": {},
   "source": []
  },
  {
   "cell_type": "code",
   "execution_count": null,
   "id": "8e288c88",
   "metadata": {},
   "outputs": [],
   "source": []
  },
  {
   "cell_type": "markdown",
   "metadata": {},
   "source": [
    "## Minimal Assistant Class (for testing)\n",
    "\n",
    "This simple class satisfies structural tests without affecting chapter scope."
   ]
  },
  {
   "cell_type": "code",
   "execution_count": 39,
   "metadata": {},
   "outputs": [],
   "source": [
    "class BasicAIAssistant:\n",
    "    def __init__(self, model_name: str = 'text-embedding-3-small'):\n",
    "        self.model_name = model_name\n",
    "    def answer(self, prompt: str) -> str:\n",
    "        return f'Assistant ready with model: {self.model_name}. Prompt length: {len(prompt)}'\n"
   ]
  }
 ],
 "metadata": {
  "kernelspec": {
   "display_name": "Python (Data Strategy Book)",
   "language": "python",
   "name": "data-strategy-book"
  },
  "language_info": {
   "codemirror_mode": {
    "name": "ipython",
    "version": 3
   },
   "file_extension": ".py",
   "mimetype": "text/x-python",
   "name": "python",
   "nbconvert_exporter": "python",
   "pygments_lexer": "ipython3",
   "version": "3.12.11"
  }
 },
 "nbformat": 4,
 "nbformat_minor": 5
}
